{
 "cells": [
  {
   "cell_type": "markdown",
   "id": "d91842c2-5144-4ec3-83e3-14d73341f6cc",
   "metadata": {},
   "source": [
    "# *Final Project*\n",
    "\n",
    "This project aims to develop a machine learning-based IDS that can accurately classify network traffic as benign or malicious, addressing issues like scalability, class imbalance, and detection of rare attack scenarios."
   ]
  },
  {
   "cell_type": "markdown",
   "id": "4153425d-ab3a-455f-8523-dbdb483811cd",
   "metadata": {},
   "source": [
    "## 1. Importing required libraries"
   ]
  },
  {
   "cell_type": "code",
   "execution_count": 1,
   "id": "ea38ca12-26df-41cf-b9e5-733a2495de5e",
   "metadata": {},
   "outputs": [],
   "source": [
    "# Importing required libraries\n",
    "import matplotlib.pyplot as plt\n",
    "import numpy as np\n",
    "import os\n",
    "import pandas as pd\n",
    "import logging\n",
    "import seaborn as sns\n",
    "import datetime\n",
    "\n",
    "from sklearn.preprocessing import StandardScaler\n",
    "from sklearn.decomposition import PCA\n",
    "from sklearn.model_selection import train_test_split\n",
    "from sklearn.preprocessing import StandardScaler, LabelEncoder\n",
    "from imblearn.over_sampling import SMOTE\n",
    "from sklearn.ensemble import RandomForestClassifier\n",
    "from sklearn.metrics import accuracy_score, f1_score, classification_report\n",
    "from sklearn.neighbors import LocalOutlierFactor\n",
    "from sklearn.ensemble import IsolationForest\n",
    "from sklearn.covariance import EllipticEnvelope\n",
    "from sklearn.linear_model import LogisticRegression\n",
    "from sklearn.model_selection import GridSearchCV\n",
    "from sklearn.model_selection import RandomizedSearchCV\n",
    "from collections import Counter"
   ]
  },
  {
   "cell_type": "markdown",
   "id": "1dbeccaa-8d3d-43cc-ad3c-99cb15f32175",
   "metadata": {},
   "source": [
    "## 2. Creating a logger to generate logs for the entire code"
   ]
  },
  {
   "cell_type": "code",
   "execution_count": 2,
   "id": "a3a502c4-0985-403f-8f66-a0b71a877608",
   "metadata": {},
   "outputs": [],
   "source": [
    "# Configure the logging\n",
    "logging.basicConfig(\n",
    "    level=logging.DEBUG,\n",
    "    format='%(asctime)s - %(levelname)s - %(message)s',\n",
    "    datefmt='%Y-%m-%d %H:%M:%S'\n",
    ")\n",
    "\n",
    "# Create a logger\n",
    "logger = logging.getLogger(__name__)\n",
    "logging.getLogger('matplotlib').setLevel(logging.WARNING)"
   ]
  },
  {
   "cell_type": "markdown",
   "id": "4911fd45-b832-4f02-853b-768b5101d9eb",
   "metadata": {},
   "source": [
    "## 3. Get details of different files in the dataset"
   ]
  },
  {
   "cell_type": "code",
   "execution_count": 3,
   "id": "b1de3994-2db4-47ca-9554-0c7c8d17156a",
   "metadata": {},
   "outputs": [
    {
     "name": "stderr",
     "output_type": "stream",
     "text": [
      "2024-12-12 00:21:48 - INFO - Time taken to process the block: 0:00:01.792541\n"
     ]
    },
    {
     "name": "stdout",
     "output_type": "stream",
     "text": [
      "                            File Name    Rows  Columns\n",
      "0  Tuesday-WorkingHours.pcap_ISCX.csv  445909       79\n",
      "All files have identical columns.\n"
     ]
    }
   ],
   "source": [
    "start_time = datetime.datetime.now()\n",
    "def load_and_check_csv_files(folder_path):\n",
    "    \"\"\"\n",
    "    Loads multiple CSV files from a folder, checks the number of rows and columns in each,\n",
    "    and verifies if all files have the same columns.\n",
    "\n",
    "    Parameters:\n",
    "    - folder_path (str): Path to the folder containing the CSV files.\n",
    "\n",
    "    Returns:\n",
    "    - summary (pd.DataFrame): Summary of rows and columns in each file.\n",
    "    - columns_match (bool): Whether all files have identical columns.\n",
    "    - differing_columns (dict): Files with columns that differ from the majority.\n",
    "    \"\"\"\n",
    "    file_summaries = []\n",
    "    all_columns = {}\n",
    "    \n",
    "    # Iterate through all files in the folder\n",
    "    for file_name in os.listdir(folder_path):\n",
    "        if file_name.endswith(\".csv\"):\n",
    "            file_path = os.path.join(folder_path, file_name)\n",
    "            try:\n",
    "                # Load the CSV file\n",
    "                df = pd.read_csv(file_path)\n",
    "                file_summaries.append({\n",
    "                    \"File Name\": file_name,\n",
    "                    \"Rows\": df.shape[0],\n",
    "                    \"Columns\": df.shape[1]\n",
    "                })\n",
    "                # Store columns for comparison\n",
    "                all_columns[file_name] = set(df.columns)\n",
    "            except Exception as e:\n",
    "                print(f\"Error reading {file_name}: {e}\")\n",
    "    \n",
    "    # Create a summary DataFrame\n",
    "    summary = pd.DataFrame(file_summaries)\n",
    "    \n",
    "    # Check if all files have the same columns\n",
    "    common_columns = all_columns[list(all_columns.keys())[0]]\n",
    "    differing_columns = {\n",
    "        file: cols for file, cols in all_columns.items() if cols != common_columns\n",
    "    }\n",
    "    columns_match = len(differing_columns) == 0\n",
    "    \n",
    "    return summary, columns_match, differing_columns\n",
    "\n",
    "# Example usage\n",
    "# Replace 'folder_path' with the path to the folder containing your CSV files\n",
    "folder_path = 'archive_test'\n",
    "summary, columns_match, differing_columns = load_and_check_csv_files(folder_path)\n",
    "\n",
    "# Display the summary\n",
    "print(summary)\n",
    "\n",
    "if columns_match:\n",
    "    print(\"All files have identical columns.\")\n",
    "else:\n",
    "    print(\"The following files have differing columns:\")\n",
    "    for file, cols in differing_columns.items():\n",
    "        print(f\"{file}: {cols}\")\n",
    "\n",
    "stop_time = datetime.datetime.now()\n",
    "logger.info(f\"Time taken to process the block: {stop_time - start_time}\")"
   ]
  },
  {
   "cell_type": "markdown",
   "id": "cc3e747e-4035-4ca9-8ca8-d830861bf07c",
   "metadata": {},
   "source": [
    "## 4. Load the dataset"
   ]
  },
  {
   "cell_type": "markdown",
   "id": "96f18408-afc3-4a2f-b3b9-494a2dfafe76",
   "metadata": {},
   "source": [
    "This code loads multiple CSV files from a specified folder, combines them into a single DataFrame, and logs the process details. It iterates through the folder, identifies files with a `.csv` extension, and loads each file into a DataFrame. These DataFrames are then merged into one using `pd.concat()`, and the combined dataset's shape is logged for reference. The script also calculates and logs the time taken for the entire operation, providing both performance insights and a streamlined data loading process."
   ]
  },
  {
   "cell_type": "code",
   "execution_count": 4,
   "id": "65b76704-135e-49fb-8313-a92ea6948786",
   "metadata": {},
   "outputs": [
    {
     "name": "stderr",
     "output_type": "stream",
     "text": [
      "2024-12-12 00:21:48 - INFO - Loading file: archive_test/Tuesday-WorkingHours.pcap_ISCX.csv\n",
      "2024-12-12 00:21:50 - INFO - Step 1: Combined Dataset Shape: (445909, 79)\n",
      "2024-12-12 00:21:50 - INFO - Time taken to process the block: 0:00:01.659922\n"
     ]
    }
   ],
   "source": [
    "start_time = datetime.datetime.now()\n",
    "# Step 1: Load the dataset and overview of initial data\n",
    "folder_path = \"archive_test\"\n",
    "dataframes = []\n",
    "for file_name in os.listdir(folder_path):\n",
    "    if file_name.endswith(\".csv\"):\n",
    "        file_path = os.path.join(folder_path, file_name)\n",
    "        logger.info(f\"Loading file: {file_path}\")\n",
    "        df = pd.read_csv(file_path)\n",
    "        dataframes.append(df)\n",
    "\n",
    "# Combine all datasets into a single DataFrame\n",
    "data = pd.concat(dataframes, ignore_index=True)\n",
    "initial_shape = data.shape\n",
    "logger.info(f\"Step 1: Combined Dataset Shape: {data.shape}\")\n",
    "stop_time = datetime.datetime.now()\n",
    "logger.info(f\"Time taken to process the block: {stop_time - start_time}\")"
   ]
  },
  {
   "cell_type": "markdown",
   "id": "84edfbe3-2a58-49b7-991b-717836cdf7d3",
   "metadata": {},
   "source": [
    "## 5. Cleaning column names"
   ]
  },
  {
   "cell_type": "markdown",
   "id": "5fae61a7-3ad8-4384-b7f5-12809184371e",
   "metadata": {},
   "source": [
    "This code removes any extra spaces from the beginning and end of the column names in the dataset to make them clean and consistent. It logs the shape of the dataset, noting that no rows or columns are affected during this process. The script also calculates and logs the time taken for this operation to track its performance."
   ]
  },
  {
   "cell_type": "code",
   "execution_count": 5,
   "id": "6e759b62-671f-4c22-9650-32d1b558462a",
   "metadata": {},
   "outputs": [
    {
     "name": "stderr",
     "output_type": "stream",
     "text": [
      "2024-12-12 00:21:50 - INFO - Step 2: Dataset Shape after cleaning column names: (445909, 79) (No rows/columns affected)\n",
      "2024-12-12 00:21:50 - INFO - Time taken to process the block: 0:00:00.001226\n"
     ]
    }
   ],
   "source": [
    "start_time = datetime.datetime.now()\n",
    "# Step 2: Clean column names\n",
    "data.columns = data.columns.str.strip()\n",
    "logger.info(f\"Step 2: Dataset Shape after cleaning column names: {data.shape} (No rows/columns affected)\")\n",
    "stop_time = datetime.datetime.now()\n",
    "logger.info(f\"Time taken to process the block: {stop_time - start_time}\")"
   ]
  },
  {
   "cell_type": "markdown",
   "id": "0a48c1f3-c2d2-4d66-a219-747413fd6034",
   "metadata": {},
   "source": [
    "## 6. Handle duplicates"
   ]
  },
  {
   "cell_type": "markdown",
   "id": "16895ae2-ba30-47b0-98ab-b0a49a7b3b76",
   "metadata": {},
   "source": [
    "This code removes duplicate rows from the dataset using the `drop_duplicates()` function, ensuring the data is unique and accurate. It calculates the number of rows removed by comparing the dataset's size before and after the operation. The updated dataset shape and the count of removed rows are logged. Additionally, the time taken for this operation is measured and logged for performance tracking."
   ]
  },
  {
   "cell_type": "code",
   "execution_count": 6,
   "id": "c607d296-a88d-4aeb-9c37-b2a7f3a26e10",
   "metadata": {},
   "outputs": [
    {
     "name": "stderr",
     "output_type": "stream",
     "text": [
      "2024-12-12 00:21:51 - INFO - Step 3: Dataset Shape after removing duplicates: (421844, 79) (24065 rows removed)\n",
      "2024-12-12 00:21:51 - INFO - Time taken to process the block: 0:00:00.902821\n"
     ]
    }
   ],
   "source": [
    "start_time = datetime.datetime.now()\n",
    "# Step 3: Handle duplicates\n",
    "before_duplicates = data.shape[0]\n",
    "data = data.drop_duplicates()\n",
    "rows_removed = before_duplicates - data.shape[0]\n",
    "logger.info(f\"Step 3: Dataset Shape after removing duplicates: {data.shape} ({rows_removed} rows removed)\")\n",
    "stop_time = datetime.datetime.now()\n",
    "logger.info(f\"Time taken to process the block: {stop_time - start_time}\")"
   ]
  },
  {
   "cell_type": "markdown",
   "id": "a39d7fe3-d376-4304-912b-6845b3ab40d4",
   "metadata": {},
   "source": [
    "## 7. Check and handle missing values"
   ]
  },
  {
   "cell_type": "markdown",
   "id": "2c5394e8-4ac7-4069-b5c7-770cc82d2d8f",
   "metadata": {},
   "source": [
    "This code identifies and handles missing values in the dataset. It first checks for missing values in all columns using `isnull().sum()` and prints the count of missing values for columns that have them. For numeric columns (identified using `select_dtypes()`), it fills the missing values with the median of each column using the `fillna()` function. The dataset shape is logged after handling missing values, noting that no rows are removed, and the number of columns with missing values is recorded. Additionally, the time taken for this operation is measured and logged for performance tracking."
   ]
  },
  {
   "cell_type": "code",
   "execution_count": 7,
   "id": "8bed1874-4294-4cdb-b61e-2fd5a3805c36",
   "metadata": {},
   "outputs": [
    {
     "name": "stdout",
     "output_type": "stream",
     "text": [
      "Step 4: Missing Values:\n",
      " Flow Bytes/s    161\n",
      "dtype: int64\n"
     ]
    },
    {
     "name": "stderr",
     "output_type": "stream",
     "text": [
      "2024-12-12 00:21:52 - INFO - Time taken to process the block: 0:00:00.926230\n"
     ]
    },
    {
     "name": "stdout",
     "output_type": "stream",
     "text": [
      "Step 4: Dataset Shape after handling missing values: (421844, 79) (No rows removed, 1 columns filled)\n"
     ]
    }
   ],
   "source": [
    "start_time = datetime.datetime.now()\n",
    "# Step 4: Check and handle missing values\n",
    "missing_values = data.isnull().sum()\n",
    "print(\"Step 4: Missing Values:\\n\", missing_values[missing_values > 0])\n",
    "\n",
    "before_missing = data.shape[0]\n",
    "# Fill missing values with median for numeric columns only\n",
    "numeric_columns = data.select_dtypes(include=[\"float64\", \"int64\"]).columns\n",
    "data[numeric_columns] = data[numeric_columns].fillna(data[numeric_columns].median())\n",
    "rows_filled_missing = before_missing - data.shape[0]\n",
    "print(f\"Step 4: Dataset Shape after handling missing values: {data.shape} (No rows removed, {len(missing_values[missing_values > 0])} columns filled)\")\n",
    "stop_time = datetime.datetime.now()\n",
    "logger.info(f\"Time taken to process the block: {stop_time - start_time}\")"
   ]
  },
  {
   "cell_type": "markdown",
   "id": "5cf06950-0277-42ed-a5ca-7744b8a3cffa",
   "metadata": {},
   "source": [
    "## 8. Handle `inf` values"
   ]
  },
  {
   "cell_type": "markdown",
   "id": "e531f46e-5bf3-4a88-836d-3f9c8d154c9c",
   "metadata": {},
   "source": [
    "This code handles infinite (`inf` and `-inf`) and large values in the dataset. It replaces `inf` and `-inf` with `NaN` using the `replace()` function. For numeric columns, these `NaN` values are then filled with the maximum value of each respective column using `fillna()`. The dataset shape is logged after handling these values, noting that no rows are removed and the infinite values have been addressed. Additionally, the time taken for this operation is measured and logged for performance tracking."
   ]
  },
  {
   "cell_type": "code",
   "execution_count": 8,
   "id": "e1a273f3-8906-473d-aece-4f5768f9f099",
   "metadata": {},
   "outputs": [
    {
     "name": "stderr",
     "output_type": "stream",
     "text": [
      "2024-12-12 00:21:52 - INFO - Step 5: Dataset Shape after handling `inf` values: (421844, 79) (No rows removed, inf values handled)\n",
      "2024-12-12 00:21:52 - INFO - Time taken to process the block: 0:00:00.786751\n"
     ]
    }
   ],
   "source": [
    "start_time = datetime.datetime.now()\n",
    "# Step 5: Handle `inf` and large values\n",
    "before_inf = data.shape[0]\n",
    "# Replace inf and -inf with NaN, then fill them with column max\n",
    "data.replace([np.inf, -np.inf], np.nan, inplace=True)\n",
    "data[numeric_columns] = data[numeric_columns].fillna(data[numeric_columns].max())\n",
    "rows_filled_inf = before_inf - data.shape[0]\n",
    "logger.info(f\"Step 5: Dataset Shape after handling `inf` values: {data.shape} (No rows removed, inf values handled)\")\n",
    "stop_time = datetime.datetime.now()\n",
    "logger.info(f\"Time taken to process the block: {stop_time - start_time}\")"
   ]
  },
  {
   "cell_type": "markdown",
   "id": "6ff0d95a-2279-4070-ab79-34b33b4741e5",
   "metadata": {},
   "source": [
    "## 9. Remove constant features"
   ]
  },
  {
   "cell_type": "markdown",
   "id": "56ec8d3a-a495-47d6-9407-749965f45147",
   "metadata": {},
   "source": [
    "This code identifies and removes constant features from the dataset. Constant features are columns in which all values are the same, detected by checking if a column has only one unique value using `nunique()`. The names of these constant columns are logged, and they are removed using the `drop()` function. The updated dataset shape is logged, including the number of columns removed. Additionally, the time taken for this operation is measured and logged for performance tracking."
   ]
  },
  {
   "cell_type": "code",
   "execution_count": 9,
   "id": "14f2674c-f81e-4934-9b95-f4ffe2d73e24",
   "metadata": {},
   "outputs": [
    {
     "name": "stderr",
     "output_type": "stream",
     "text": [
      "2024-12-12 00:21:53 - INFO - Step 6: Constant Features to Remove: ['Bwd PSH Flags', 'Fwd URG Flags', 'Bwd URG Flags', 'CWE Flag Count', 'Fwd Avg Bytes/Bulk', 'Fwd Avg Packets/Bulk', 'Fwd Avg Bulk Rate', 'Bwd Avg Bytes/Bulk', 'Bwd Avg Packets/Bulk', 'Bwd Avg Bulk Rate']\n",
      "2024-12-12 00:21:53 - INFO - Step 6: Dataset Shape after removing constant features: (421844, 69) (10 columns removed)\n",
      "2024-12-12 00:21:53 - INFO - Time taken to process the block: 0:00:00.411777\n"
     ]
    }
   ],
   "source": [
    "start_time = datetime.datetime.now()\n",
    "# Step 6: Remove constant features\n",
    "constant_columns = [col for col in numeric_columns if data[col].nunique() == 1]\n",
    "columns_removed = len(constant_columns)\n",
    "logger.info(f\"Step 6: Constant Features to Remove: {constant_columns}\")\n",
    "data = data.drop(columns=constant_columns)\n",
    "logger.info(f\"Step 6: Dataset Shape after removing constant features: {data.shape} ({columns_removed} columns removed)\")\n",
    "stop_time = datetime.datetime.now()\n",
    "logger.info(f\"Time taken to process the block: {stop_time - start_time}\")"
   ]
  },
  {
   "cell_type": "markdown",
   "id": "a212022a-8383-41ce-9530-727bf0a34504",
   "metadata": {},
   "source": [
    "## 10. Correlation Analysis"
   ]
  },
  {
   "cell_type": "markdown",
   "id": "d2143438-36f1-400c-b2fe-ab5ea07c9627",
   "metadata": {},
   "source": [
    "This code analyzes feature correlations in the dataset, focusing on the 'Label' column, to aid in feature selection and dimensionality reduction. It starts by identifying the unique values in the 'Label' column and mapping them to numeric values, which are stored in a new column called `Label_numeric`. The list of numeric columns is updated to include this new column, and a correlation matrix is calculated for all numeric features. This correlation matrix is visualized as a heatmap to show the relationships between features. Next, features with a correlation greater than 0.1 with `Label_numeric` are selected, and the dataset is filtered to include only these features. The original and filtered correlation matrices are saved as CSV files for reference, and the filtered correlation matrix is visualized in another heatmap.\n",
    "\n",
    "The code then identifies features highly correlated with each other (correlation > 0.8) in the filtered dataset, logging these for potential dimensionality reduction. It also compares the highly correlated features with the selected features to identify overlapping and unique columns. This entire process, including the time taken for execution, is logged. The workflow helps reduce multicollinearity and focuses on key features relevant to the target variable, streamlining the dataset for improved model performance."
   ]
  },
  {
   "cell_type": "code",
   "execution_count": 10,
   "id": "d5505c0c-6db2-47ff-8a0f-630d271d43c7",
   "metadata": {},
   "outputs": [
    {
     "name": "stdout",
     "output_type": "stream",
     "text": [
      "Unique values in 'Label': ['BENIGN' 'FTP-Patator' 'SSH-Patator']\n",
      "Label Mapping: {'BENIGN': 0, 'FTP-Patator': 1, 'SSH-Patator': 2}\n",
      "Updated Numeric Columns: Index(['Destination Port', 'Flow Duration', 'Total Fwd Packets',\n",
      "       'Total Backward Packets', 'Total Length of Fwd Packets',\n",
      "       'Total Length of Bwd Packets', 'Fwd Packet Length Max',\n",
      "       'Fwd Packet Length Min', 'Fwd Packet Length Mean',\n",
      "       'Fwd Packet Length Std', 'Bwd Packet Length Max',\n",
      "       'Bwd Packet Length Min', 'Bwd Packet Length Mean',\n",
      "       'Bwd Packet Length Std', 'Flow Bytes/s', 'Flow Packets/s',\n",
      "       'Flow IAT Mean', 'Flow IAT Std', 'Flow IAT Max', 'Flow IAT Min',\n",
      "       'Fwd IAT Total', 'Fwd IAT Mean', 'Fwd IAT Std', 'Fwd IAT Max',\n",
      "       'Fwd IAT Min', 'Bwd IAT Total', 'Bwd IAT Mean', 'Bwd IAT Std',\n",
      "       'Bwd IAT Max', 'Bwd IAT Min', 'Fwd PSH Flags', 'Fwd Header Length',\n",
      "       'Bwd Header Length', 'Fwd Packets/s', 'Bwd Packets/s',\n",
      "       'Min Packet Length', 'Max Packet Length', 'Packet Length Mean',\n",
      "       'Packet Length Std', 'Packet Length Variance', 'FIN Flag Count',\n",
      "       'SYN Flag Count', 'RST Flag Count', 'PSH Flag Count', 'ACK Flag Count',\n",
      "       'URG Flag Count', 'ECE Flag Count', 'Down/Up Ratio',\n",
      "       'Average Packet Size', 'Avg Fwd Segment Size', 'Avg Bwd Segment Size',\n",
      "       'Fwd Header Length.1', 'Subflow Fwd Packets', 'Subflow Fwd Bytes',\n",
      "       'Subflow Bwd Packets', 'Subflow Bwd Bytes', 'Init_Win_bytes_forward',\n",
      "       'Init_Win_bytes_backward', 'act_data_pkt_fwd', 'min_seg_size_forward',\n",
      "       'Active Mean', 'Active Std', 'Active Max', 'Active Min', 'Idle Mean',\n",
      "       'Idle Std', 'Idle Max', 'Idle Min', 'Label_numeric'],\n",
      "      dtype='object')\n"
     ]
    },
    {
     "data": {
      "image/png": "[encoded data removed]",
      "text/plain": [
       "<Figure size 864x720 with 2 Axes>"
      ]
     },
     "metadata": {
      "needs_background": "light"
     },
     "output_type": "display_data"
    },
    {
     "name": "stdout",
     "output_type": "stream",
     "text": [
      "Selected Features with Correlation > 0.3: ['Min Packet Length', 'PSH Flag Count', 'Init_Win_bytes_forward', 'act_data_pkt_fwd', 'Label_numeric']\n"
     ]
    },
    {
     "data": {
      "image/png": "[encoded data removed]",
      "text/plain": [
       "<Figure size 864x720 with 2 Axes>"
      ]
     },
     "metadata": {
      "needs_background": "light"
     },
     "output_type": "display_data"
    },
    {
     "name": "stderr",
     "output_type": "stream",
     "text": [
      "2024-12-12 00:21:58 - INFO - Highly Correlated Features for Dimensionality Reduction: []\n",
      "2024-12-12 00:21:58 - INFO - Time taken to process the block: 0:00:04.914407\n"
     ]
    },
    {
     "name": "stdout",
     "output_type": "stream",
     "text": [
      "Similar Columns: set()\n",
      "Different Columns: {'Init_Win_bytes_forward', 'PSH Flag Count', 'Min Packet Length', 'Label_numeric', 'act_data_pkt_fwd'}\n"
     ]
    }
   ],
   "source": [
    "start_time = datetime.datetime.now()\n",
    "\n",
    "# Step 1: Check unique values in 'Label' column\n",
    "unique_labels = data['Label'].unique()\n",
    "print(\"Unique values in 'Label':\", unique_labels)\n",
    "\n",
    "# Step 2: Create a mapping for the categorical 'Label' values\n",
    "label_mapping = {label: idx for idx, label in enumerate(unique_labels)}\n",
    "print(\"Label Mapping:\", label_mapping)\n",
    "\n",
    "# Step 3: Map the 'Label' column to numerical values and store in a new column\n",
    "data['Label_numeric'] = data['Label'].map(label_mapping)\n",
    "\n",
    "# Step 4: Recalculate the numeric columns to include the new 'Label_numeric' column\n",
    "numeric_columns = data.select_dtypes(include=[\"float64\", \"int64\"]).columns\n",
    "print(\"Updated Numeric Columns:\", numeric_columns)\n",
    "\n",
    "# Step 5: Calculate the correlation matrix with the new column\n",
    "correlation_matrix = data[numeric_columns].corr().abs()\n",
    "\n",
    "# Step 6: Display the correlation matrix as a heatmap\n",
    "plt.figure(figsize=(12, 10))\n",
    "sns.heatmap(correlation_matrix, annot=False, cmap=\"coolwarm\", linewidths=0.5)\n",
    "plt.title(\"Feature Correlation Heatmap (Original)\")\n",
    "plt.show()\n",
    "\n",
    "# Step 7: Filter features with correlation > 0.3 with 'Label_numeric'\n",
    "correlations_with_label = correlation_matrix['Label_numeric']\n",
    "selected_features = correlations_with_label[correlations_with_label > 0.1].index.tolist() # Change back to 0.3\n",
    "print(\"Selected Features with Correlation > 0.3:\", selected_features)\n",
    "\n",
    "# Step 8: Subset the dataset to keep only selected features\n",
    "filtered_data = data[selected_features]\n",
    "\n",
    "# Step 9: Save both original and filtered correlation matrices to CSV files\n",
    "correlation_matrix.to_csv('original_correlation_matrix.csv', index=True)\n",
    "filtered_correlation_matrix = filtered_data.corr().abs()\n",
    "filtered_correlation_matrix.to_csv('filtered_correlation_matrix.csv', index=True)\n",
    "\n",
    "# Step 10: Display the filtered correlation matrix as a heatmap\n",
    "plt.figure(figsize=(12, 10))\n",
    "sns.heatmap(filtered_correlation_matrix, annot=False, cmap=\"coolwarm\", linewidths=0.5)\n",
    "plt.title(\"Feature Correlation Heatmap (Filtered Features)\")\n",
    "plt.show()\n",
    "\n",
    "# Step 11: Get upper triangle of the filtered correlation matrix\n",
    "upper_triangle = filtered_correlation_matrix.where(\n",
    "    np.triu(np.ones(filtered_correlation_matrix.shape), k=1).astype(bool)\n",
    ")\n",
    "\n",
    "# Step 12: Identify features highly correlated with each other (e.g., correlation > 0.8)\n",
    "highly_correlated = set()\n",
    "for column in upper_triangle.columns:\n",
    "    correlated_columns = upper_triangle.index[upper_triangle[column] > 0.8].tolist()\n",
    "    if correlated_columns:  # If there are any correlations > 0.8\n",
    "        highly_correlated.update(correlated_columns + [column])\n",
    "\n",
    "# Convert to list for logging and further processing\n",
    "highly_correlated = list(highly_correlated)\n",
    "logger.info(f\"Highly Correlated Features for Dimensionality Reduction: {highly_correlated}\")\n",
    "\n",
    "# Convert the columns of filtered_data to a set\n",
    "filtered_data_columns = set(filtered_data.columns)\n",
    "\n",
    "# Convert highly_correlated to a set\n",
    "highly_correlated_set = set(highly_correlated)\n",
    "\n",
    "# Find similar columns (intersection)\n",
    "similar_columns = filtered_data_columns.intersection(highly_correlated_set)\n",
    "\n",
    "# Find different columns (difference)\n",
    "different_columns = filtered_data_columns.difference(highly_correlated_set)\n",
    "\n",
    "# Output the results\n",
    "print(\"Similar Columns:\", similar_columns)\n",
    "print(\"Different Columns:\", different_columns)\n",
    "\n",
    "stop_time = datetime.datetime.now()\n",
    "logger.info(f\"Time taken to process the block: {stop_time - start_time}\")"
   ]
  },
  {
   "cell_type": "markdown",
   "id": "46da2ea7-e6c9-4ef6-8b98-35bfc6e9b499",
   "metadata": {},
   "source": [
    "## Outlier Detection and Removal"
   ]
  },
  {
   "cell_type": "markdown",
   "id": "dd102083-0381-4f50-a836-82c1d62b815a",
   "metadata": {},
   "source": [
    "This code focuses on preparing the dataset by selecting relevant features, separating the target variable, and detecting outliers using three different methods. First, it updates the list of selected features by removing the `Label_numeric` column (if it exists) and adding the `Label` column. The dataset is then subset to include only the selected features present in the data, separating the `Label` column as the target variable while keeping the rest for outlier detection.\n",
    "\n",
    "The outlier detection process is carried out using three methods: Local Outlier Factor (LOF), Isolation Forest, and Robust Covariance (Elliptic Envelope). Each method identifies data points as either outliers (-1) or inliers (1), and the predictions are stored as separate columns in the dataset. The dataset is then filtered to retain only the rows classified as inliers by all three methods, ensuring a clean and reliable dataset. Temporary columns used for outlier labels are dropped, and the `Label` column is reattached to the filtered data.\n",
    "\n",
    "Finally, the filtered dataset's row count and a sample of the data are displayed, providing a clear view of the cleaned data. The time taken to execute the entire process is measured and logged for performance tracking."
   ]
  },
  {
   "cell_type": "code",
   "execution_count": 11,
   "id": "5f51d811-3596-4639-88ec-389128c099ea",
   "metadata": {},
   "outputs": [
    {
     "name": "stdout",
     "output_type": "stream",
     "text": [
      "Updated selected_features: ['Min Packet Length', 'PSH Flag Count', 'Init_Win_bytes_forward', 'act_data_pkt_fwd', 'Label']\n",
      "LOF Prediction Type: <class 'numpy.ndarray'>\n",
      "LOF Outlier/Inlier Counts: (array([-1,  1]), array([ 15547, 406297]))\n"
     ]
    },
    {
     "name": "stderr",
     "output_type": "stream",
     "text": [
      "/shared/centos7/anaconda3/2022.05/lib/python3.9/site-packages/sklearn/base.py:450: UserWarning: X does not have valid feature names, but IsolationForest was fitted with feature names\n",
      "  warnings.warn(\n"
     ]
    },
    {
     "name": "stdout",
     "output_type": "stream",
     "text": [
      "Isolation Forest Prediction Type: <class 'numpy.ndarray'>\n",
      "Isolation Forest Outlier/Inlier Counts: (array([-1,  1]), array([ 20728, 401116]))\n"
     ]
    },
    {
     "name": "stderr",
     "output_type": "stream",
     "text": [
      "/shared/centos7/anaconda3/2022.05/lib/python3.9/site-packages/sklearn/covariance/_robust_covariance.py:183: RuntimeWarning: Determinant has increased; this should not happen: log(det) > log(previous_det) (18.292175428418087 > -10.517698951168567). You may want to try with a higher value of support_fraction (current value: 0.503).\n",
      "  warnings.warn(\n",
      "/shared/centos7/anaconda3/2022.05/lib/python3.9/site-packages/sklearn/covariance/_robust_covariance.py:183: RuntimeWarning: Determinant has increased; this should not happen: log(det) > log(previous_det) (16.756085549244013 > -10.716945773956317). You may want to try with a higher value of support_fraction (current value: 0.503).\n",
      "  warnings.warn(\n",
      "/shared/centos7/anaconda3/2022.05/lib/python3.9/site-packages/sklearn/covariance/_robust_covariance.py:183: RuntimeWarning: Determinant has increased; this should not happen: log(det) > log(previous_det) (-14.173169638352235 > -14.224254898218852). You may want to try with a higher value of support_fraction (current value: 0.503).\n",
      "  warnings.warn(\n",
      "/shared/centos7/anaconda3/2022.05/lib/python3.9/site-packages/sklearn/covariance/_robust_covariance.py:183: RuntimeWarning: Determinant has increased; this should not happen: log(det) > log(previous_det) (-12.403154507288463 > -13.646947401379194). You may want to try with a higher value of support_fraction (current value: 0.503).\n",
      "  warnings.warn(\n",
      "/shared/centos7/anaconda3/2022.05/lib/python3.9/site-packages/sklearn/covariance/_robust_covariance.py:183: RuntimeWarning: Determinant has increased; this should not happen: log(det) > log(previous_det) (15.936081281780057 > -14.118410315996874). You may want to try with a higher value of support_fraction (current value: 0.503).\n",
      "  warnings.warn(\n",
      "/shared/centos7/anaconda3/2022.05/lib/python3.9/site-packages/sklearn/covariance/_robust_covariance.py:183: RuntimeWarning: Determinant has increased; this should not happen: log(det) > log(previous_det) (15.573104620100182 > -12.796333621367387). You may want to try with a higher value of support_fraction (current value: 0.503).\n",
      "  warnings.warn(\n",
      "/shared/centos7/anaconda3/2022.05/lib/python3.9/site-packages/sklearn/covariance/_robust_covariance.py:183: RuntimeWarning: Determinant has increased; this should not happen: log(det) > log(previous_det) (15.573104620100182 > -12.907559256477615). You may want to try with a higher value of support_fraction (current value: 0.503).\n",
      "  warnings.warn(\n",
      "/shared/centos7/anaconda3/2022.05/lib/python3.9/site-packages/sklearn/covariance/_robust_covariance.py:183: RuntimeWarning: Determinant has increased; this should not happen: log(det) > log(previous_det) (16.127452295592871 > -12.922210629831421). You may want to try with a higher value of support_fraction (current value: 0.503).\n",
      "  warnings.warn(\n",
      "/shared/centos7/anaconda3/2022.05/lib/python3.9/site-packages/sklearn/covariance/_robust_covariance.py:183: RuntimeWarning: Determinant has increased; this should not happen: log(det) > log(previous_det) (15.585380222599625 > -13.813381628659242). You may want to try with a higher value of support_fraction (current value: 0.503).\n",
      "  warnings.warn(\n",
      "/shared/centos7/anaconda3/2022.05/lib/python3.9/site-packages/sklearn/covariance/_robust_covariance.py:183: RuntimeWarning: Determinant has increased; this should not happen: log(det) > log(previous_det) (15.057447147907846 > -13.330056018789852). You may want to try with a higher value of support_fraction (current value: 0.503).\n",
      "  warnings.warn(\n",
      "/shared/centos7/anaconda3/2022.05/lib/python3.9/site-packages/sklearn/covariance/_robust_covariance.py:183: RuntimeWarning: Determinant has increased; this should not happen: log(det) > log(previous_det) (-14.526698418601388 > -15.259741060958619). You may want to try with a higher value of support_fraction (current value: 0.503).\n",
      "  warnings.warn(\n",
      "/shared/centos7/anaconda3/2022.05/lib/python3.9/site-packages/sklearn/covariance/_robust_covariance.py:183: RuntimeWarning: Determinant has increased; this should not happen: log(det) > log(previous_det) (13.974086878165188 > -15.009590251345363). You may want to try with a higher value of support_fraction (current value: 0.503).\n",
      "  warnings.warn(\n",
      "/shared/centos7/anaconda3/2022.05/lib/python3.9/site-packages/sklearn/covariance/_robust_covariance.py:183: RuntimeWarning: Determinant has increased; this should not happen: log(det) > log(previous_det) (-13.252062231849120 > -13.569984036957708). You may want to try with a higher value of support_fraction (current value: 0.503).\n",
      "  warnings.warn(\n",
      "/shared/centos7/anaconda3/2022.05/lib/python3.9/site-packages/sklearn/covariance/_robust_covariance.py:183: RuntimeWarning: Determinant has increased; this should not happen: log(det) > log(previous_det) (14.884963712676331 > -15.336923132242815). You may want to try with a higher value of support_fraction (current value: 0.503).\n",
      "  warnings.warn(\n",
      "/shared/centos7/anaconda3/2022.05/lib/python3.9/site-packages/sklearn/covariance/_robust_covariance.py:183: RuntimeWarning: Determinant has increased; this should not happen: log(det) > log(previous_det) (16.163335081093614 > -14.303015659058426). You may want to try with a higher value of support_fraction (current value: 0.501).\n",
      "  warnings.warn(\n",
      "/shared/centos7/anaconda3/2022.05/lib/python3.9/site-packages/sklearn/covariance/_robust_covariance.py:183: RuntimeWarning: Determinant has increased; this should not happen: log(det) > log(previous_det) (16.080510663969037 > -14.694396824223821). You may want to try with a higher value of support_fraction (current value: 0.501).\n",
      "  warnings.warn(\n",
      "/shared/centos7/anaconda3/2022.05/lib/python3.9/site-packages/sklearn/covariance/_robust_covariance.py:183: RuntimeWarning: Determinant has increased; this should not happen: log(det) > log(previous_det) (16.765989755547544 > -15.024182477322384). You may want to try with a higher value of support_fraction (current value: 0.501).\n",
      "  warnings.warn(\n",
      "/shared/centos7/anaconda3/2022.05/lib/python3.9/site-packages/sklearn/covariance/_robust_covariance.py:183: RuntimeWarning: Determinant has increased; this should not happen: log(det) > log(previous_det) (16.703198604868309 > -16.356659689093938). You may want to try with a higher value of support_fraction (current value: 0.501).\n",
      "  warnings.warn(\n",
      "/shared/centos7/anaconda3/2022.05/lib/python3.9/site-packages/sklearn/covariance/_robust_covariance.py:183: RuntimeWarning: Determinant has increased; this should not happen: log(det) > log(previous_det) (10.647730810737132 > -18.107082160073279). You may want to try with a higher value of support_fraction (current value: 0.501).\n",
      "  warnings.warn(\n",
      "/shared/centos7/anaconda3/2022.05/lib/python3.9/site-packages/sklearn/covariance/_robust_covariance.py:183: RuntimeWarning: Determinant has increased; this should not happen: log(det) > log(previous_det) (14.981612181965794 > -13.177416180747896). You may want to try with a higher value of support_fraction (current value: 0.501).\n",
      "  warnings.warn(\n",
      "/shared/centos7/anaconda3/2022.05/lib/python3.9/site-packages/sklearn/covariance/_robust_covariance.py:183: RuntimeWarning: Determinant has increased; this should not happen: log(det) > log(previous_det) (16.620490214547630 > 3.356481933729111). You may want to try with a higher value of support_fraction (current value: 0.501).\n",
      "  warnings.warn(\n",
      "/shared/centos7/anaconda3/2022.05/lib/python3.9/site-packages/sklearn/covariance/_robust_covariance.py:183: RuntimeWarning: Determinant has increased; this should not happen: log(det) > log(previous_det) (16.163335081093614 > -14.393987437264155). You may want to try with a higher value of support_fraction (current value: 0.501).\n",
      "  warnings.warn(\n",
      "/shared/centos7/anaconda3/2022.05/lib/python3.9/site-packages/sklearn/covariance/_robust_covariance.py:183: RuntimeWarning: Determinant has increased; this should not happen: log(det) > log(previous_det) (16.163335081093610 > -14.280194737286731). You may want to try with a higher value of support_fraction (current value: 0.501).\n",
      "  warnings.warn(\n",
      "/shared/centos7/anaconda3/2022.05/lib/python3.9/site-packages/sklearn/covariance/_robust_covariance.py:183: RuntimeWarning: Determinant has increased; this should not happen: log(det) > log(previous_det) (16.736529932292282 > -14.148932495828237). You may want to try with a higher value of support_fraction (current value: 0.501).\n",
      "  warnings.warn(\n",
      "/shared/centos7/anaconda3/2022.05/lib/python3.9/site-packages/sklearn/covariance/_robust_covariance.py:183: RuntimeWarning: Determinant has increased; this should not happen: log(det) > log(previous_det) (16.620490214547633 > 3.292818117720540). You may want to try with a higher value of support_fraction (current value: 0.501).\n",
      "  warnings.warn(\n",
      "/shared/centos7/anaconda3/2022.05/lib/python3.9/site-packages/sklearn/covariance/_robust_covariance.py:183: RuntimeWarning: Determinant has increased; this should not happen: log(det) > log(previous_det) (14.777580736935839 > -13.619844672191283). You may want to try with a higher value of support_fraction (current value: 0.501).\n",
      "  warnings.warn(\n",
      "/shared/centos7/anaconda3/2022.05/lib/python3.9/site-packages/sklearn/covariance/_robust_covariance.py:183: RuntimeWarning: Determinant has increased; this should not happen: log(det) > log(previous_det) (10.656616140904516 > -16.879485664018141). You may want to try with a higher value of support_fraction (current value: 0.501).\n",
      "  warnings.warn(\n",
      "/shared/centos7/anaconda3/2022.05/lib/python3.9/site-packages/sklearn/covariance/_robust_covariance.py:183: RuntimeWarning: Determinant has increased; this should not happen: log(det) > log(previous_det) (16.665530676907778 > -13.901769035650542). You may want to try with a higher value of support_fraction (current value: 0.501).\n",
      "  warnings.warn(\n",
      "/shared/centos7/anaconda3/2022.05/lib/python3.9/site-packages/sklearn/covariance/_robust_covariance.py:183: RuntimeWarning: Determinant has increased; this should not happen: log(det) > log(previous_det) (16.620490214547633 > 3.292818116727669). You may want to try with a higher value of support_fraction (current value: 0.501).\n",
      "  warnings.warn(\n",
      "/shared/centos7/anaconda3/2022.05/lib/python3.9/site-packages/sklearn/covariance/_robust_covariance.py:183: RuntimeWarning: Determinant has increased; this should not happen: log(det) > log(previous_det) (16.606865969353823 > 4.065203748651655). You may want to try with a higher value of support_fraction (current value: 0.501).\n",
      "  warnings.warn(\n",
      "/shared/centos7/anaconda3/2022.05/lib/python3.9/site-packages/sklearn/covariance/_robust_covariance.py:183: RuntimeWarning: Determinant has increased; this should not happen: log(det) > log(previous_det) (14.981612181965794 > -13.615833839844402). You may want to try with a higher value of support_fraction (current value: 0.501).\n",
      "  warnings.warn(\n",
      "/shared/centos7/anaconda3/2022.05/lib/python3.9/site-packages/sklearn/covariance/_robust_covariance.py:183: RuntimeWarning: Determinant has increased; this should not happen: log(det) > log(previous_det) (16.163335081093610 > -14.146623473746320). You may want to try with a higher value of support_fraction (current value: 0.501).\n",
      "  warnings.warn(\n",
      "/shared/centos7/anaconda3/2022.05/lib/python3.9/site-packages/sklearn/covariance/_robust_covariance.py:183: RuntimeWarning: Determinant has increased; this should not happen: log(det) > log(previous_det) (14.777580736935839 > -13.549277180526097). You may want to try with a higher value of support_fraction (current value: 0.501).\n",
      "  warnings.warn(\n",
      "/shared/centos7/anaconda3/2022.05/lib/python3.9/site-packages/sklearn/covariance/_robust_covariance.py:183: RuntimeWarning: Determinant has increased; this should not happen: log(det) > log(previous_det) (16.716956154243743 > -15.951194580985788). You may want to try with a higher value of support_fraction (current value: 0.501).\n",
      "  warnings.warn(\n",
      "/shared/centos7/anaconda3/2022.05/lib/python3.9/site-packages/sklearn/covariance/_robust_covariance.py:183: RuntimeWarning: Determinant has increased; this should not happen: log(det) > log(previous_det) (14.840957150787903 > -13.838400086766278). You may want to try with a higher value of support_fraction (current value: 0.501).\n",
      "  warnings.warn(\n",
      "/shared/centos7/anaconda3/2022.05/lib/python3.9/site-packages/sklearn/covariance/_robust_covariance.py:183: RuntimeWarning: Determinant has increased; this should not happen: log(det) > log(previous_det) (15.706136077357781 > 4.213993294834874). You may want to try with a higher value of support_fraction (current value: 0.501).\n",
      "  warnings.warn(\n",
      "/shared/centos7/anaconda3/2022.05/lib/python3.9/site-packages/sklearn/covariance/_robust_covariance.py:183: RuntimeWarning: Determinant has increased; this should not happen: log(det) > log(previous_det) (15.706136077357781 > 4.213993294610907). You may want to try with a higher value of support_fraction (current value: 0.501).\n",
      "  warnings.warn(\n",
      "/shared/centos7/anaconda3/2022.05/lib/python3.9/site-packages/sklearn/covariance/_robust_covariance.py:183: RuntimeWarning: Determinant has increased; this should not happen: log(det) > log(previous_det) (16.665853757795485 > -14.643127338140502). You may want to try with a higher value of support_fraction (current value: 0.501).\n",
      "  warnings.warn(\n",
      "/shared/centos7/anaconda3/2022.05/lib/python3.9/site-packages/sklearn/covariance/_robust_covariance.py:183: RuntimeWarning: Determinant has increased; this should not happen: log(det) > log(previous_det) (15.700857473836269 > 4.348335066668628). You may want to try with a higher value of support_fraction (current value: 0.501).\n",
      "  warnings.warn(\n",
      "/shared/centos7/anaconda3/2022.05/lib/python3.9/site-packages/sklearn/covariance/_robust_covariance.py:183: RuntimeWarning: Determinant has increased; this should not happen: log(det) > log(previous_det) (16.552061687186498 > 4.088304983431915). You may want to try with a higher value of support_fraction (current value: 0.501).\n",
      "  warnings.warn(\n",
      "/shared/centos7/anaconda3/2022.05/lib/python3.9/site-packages/sklearn/covariance/_robust_covariance.py:183: RuntimeWarning: Determinant has increased; this should not happen: log(det) > log(previous_det) (14.812362717531787 > -12.909372502188027). You may want to try with a higher value of support_fraction (current value: 0.501).\n",
      "  warnings.warn(\n",
      "/shared/centos7/anaconda3/2022.05/lib/python3.9/site-packages/sklearn/covariance/_robust_covariance.py:183: RuntimeWarning: Determinant has increased; this should not happen: log(det) > log(previous_det) (14.981612181965794 > -13.223907792766898). You may want to try with a higher value of support_fraction (current value: 0.501).\n",
      "  warnings.warn(\n",
      "/shared/centos7/anaconda3/2022.05/lib/python3.9/site-packages/sklearn/covariance/_robust_covariance.py:183: RuntimeWarning: Determinant has increased; this should not happen: log(det) > log(previous_det) (16.163335081093614 > -14.298503827569849). You may want to try with a higher value of support_fraction (current value: 0.501).\n",
      "  warnings.warn(\n",
      "/shared/centos7/anaconda3/2022.05/lib/python3.9/site-packages/sklearn/covariance/_robust_covariance.py:183: RuntimeWarning: Determinant has increased; this should not happen: log(det) > log(previous_det) (16.620490214547630 > 4.065203750031563). You may want to try with a higher value of support_fraction (current value: 0.501).\n",
      "  warnings.warn(\n",
      "/shared/centos7/anaconda3/2022.05/lib/python3.9/site-packages/sklearn/covariance/_robust_covariance.py:183: RuntimeWarning: Determinant has increased; this should not happen: log(det) > log(previous_det) (15.706136077357774 > 3.485469036443960). You may want to try with a higher value of support_fraction (current value: 0.501).\n",
      "  warnings.warn(\n",
      "/shared/centos7/anaconda3/2022.05/lib/python3.9/site-packages/sklearn/covariance/_robust_covariance.py:183: RuntimeWarning: Determinant has increased; this should not happen: log(det) > log(previous_det) (15.974575282063480 > 1.037645810751619). You may want to try with a higher value of support_fraction (current value: 0.501).\n",
      "  warnings.warn(\n",
      "/shared/centos7/anaconda3/2022.05/lib/python3.9/site-packages/sklearn/covariance/_robust_covariance.py:183: RuntimeWarning: Determinant has increased; this should not happen: log(det) > log(previous_det) (15.974575282063480 > 4.212486199254146). You may want to try with a higher value of support_fraction (current value: 0.501).\n",
      "  warnings.warn(\n",
      "/shared/centos7/anaconda3/2022.05/lib/python3.9/site-packages/sklearn/covariance/_robust_covariance.py:183: RuntimeWarning: Determinant has increased; this should not happen: log(det) > log(previous_det) (10.656616140904516 > -17.113100515199651). You may want to try with a higher value of support_fraction (current value: 0.501).\n",
      "  warnings.warn(\n",
      "/shared/centos7/anaconda3/2022.05/lib/python3.9/site-packages/sklearn/covariance/_robust_covariance.py:183: RuntimeWarning: Determinant has increased; this should not happen: log(det) > log(previous_det) (15.706136077357774 > 3.485469035979559). You may want to try with a higher value of support_fraction (current value: 0.501).\n",
      "  warnings.warn(\n",
      "/shared/centos7/anaconda3/2022.05/lib/python3.9/site-packages/sklearn/covariance/_robust_covariance.py:183: RuntimeWarning: Determinant has increased; this should not happen: log(det) > log(previous_det) (15.974575282063480 > 1.037645741183908). You may want to try with a higher value of support_fraction (current value: 0.501).\n",
      "  warnings.warn(\n",
      "/shared/centos7/anaconda3/2022.05/lib/python3.9/site-packages/sklearn/covariance/_robust_covariance.py:183: RuntimeWarning: Determinant has increased; this should not happen: log(det) > log(previous_det) (16.620490214547633 > 3.292818115238316). You may want to try with a higher value of support_fraction (current value: 0.501).\n",
      "  warnings.warn(\n",
      "/shared/centos7/anaconda3/2022.05/lib/python3.9/site-packages/sklearn/covariance/_robust_covariance.py:183: RuntimeWarning: Determinant has increased; this should not happen: log(det) > log(previous_det) (16.080510663969037 > -14.694396824223819). You may want to try with a higher value of support_fraction (current value: 0.501).\n",
      "  warnings.warn(\n",
      "/shared/centos7/anaconda3/2022.05/lib/python3.9/site-packages/sklearn/covariance/_robust_covariance.py:183: RuntimeWarning: Determinant has increased; this should not happen: log(det) > log(previous_det) (16.665853757795485 > -14.393634264503977). You may want to try with a higher value of support_fraction (current value: 0.501).\n",
      "  warnings.warn(\n",
      "/shared/centos7/anaconda3/2022.05/lib/python3.9/site-packages/sklearn/covariance/_robust_covariance.py:183: RuntimeWarning: Determinant has increased; this should not happen: log(det) > log(previous_det) (10.910964554611088 > 0.130342560683262). You may want to try with a higher value of support_fraction (current value: 0.501).\n",
      "  warnings.warn(\n",
      "/shared/centos7/anaconda3/2022.05/lib/python3.9/site-packages/sklearn/covariance/_robust_covariance.py:183: RuntimeWarning: Determinant has increased; this should not happen: log(det) > log(previous_det) (16.080510663969037 > -13.704974783159816). You may want to try with a higher value of support_fraction (current value: 0.501).\n",
      "  warnings.warn(\n",
      "/shared/centos7/anaconda3/2022.05/lib/python3.9/site-packages/sklearn/covariance/_robust_covariance.py:183: RuntimeWarning: Determinant has increased; this should not happen: log(det) > log(previous_det) (16.736529932292282 > -14.333443914249701). You may want to try with a higher value of support_fraction (current value: 0.501).\n",
      "  warnings.warn(\n",
      "/shared/centos7/anaconda3/2022.05/lib/python3.9/site-packages/sklearn/covariance/_robust_covariance.py:183: RuntimeWarning: Determinant has increased; this should not happen: log(det) > log(previous_det) (16.765989755547544 > -15.129542992980202). You may want to try with a higher value of support_fraction (current value: 0.501).\n",
      "  warnings.warn(\n",
      "/shared/centos7/anaconda3/2022.05/lib/python3.9/site-packages/sklearn/covariance/_robust_covariance.py:183: RuntimeWarning: Determinant has increased; this should not happen: log(det) > log(previous_det) (14.611208809949593 > 3.354927794947860). You may want to try with a higher value of support_fraction (current value: 0.501).\n",
      "  warnings.warn(\n",
      "/shared/centos7/anaconda3/2022.05/lib/python3.9/site-packages/sklearn/covariance/_robust_covariance.py:183: RuntimeWarning: Determinant has increased; this should not happen: log(det) > log(previous_det) (15.974575282063480 > 4.212486198804768). You may want to try with a higher value of support_fraction (current value: 0.501).\n",
      "  warnings.warn(\n",
      "/shared/centos7/anaconda3/2022.05/lib/python3.9/site-packages/sklearn/covariance/_robust_covariance.py:183: RuntimeWarning: Determinant has increased; this should not happen: log(det) > log(previous_det) (10.717435091035194 > -15.696432150617962). You may want to try with a higher value of support_fraction (current value: 0.501).\n",
      "  warnings.warn(\n",
      "/shared/centos7/anaconda3/2022.05/lib/python3.9/site-packages/sklearn/covariance/_robust_covariance.py:183: RuntimeWarning: Determinant has increased; this should not happen: log(det) > log(previous_det) (16.080510663969037 > -13.751598985307226). You may want to try with a higher value of support_fraction (current value: 0.501).\n",
      "  warnings.warn(\n",
      "/shared/centos7/anaconda3/2022.05/lib/python3.9/site-packages/sklearn/covariance/_robust_covariance.py:183: RuntimeWarning: Determinant has increased; this should not happen: log(det) > log(previous_det) (16.080510663969037 > -14.569233681269814). You may want to try with a higher value of support_fraction (current value: 0.501).\n",
      "  warnings.warn(\n",
      "/shared/centos7/anaconda3/2022.05/lib/python3.9/site-packages/sklearn/covariance/_robust_covariance.py:183: RuntimeWarning: Determinant has increased; this should not happen: log(det) > log(previous_det) (15.706136077357774 > 3.485469040158438). You may want to try with a higher value of support_fraction (current value: 0.501).\n",
      "  warnings.warn(\n",
      "/shared/centos7/anaconda3/2022.05/lib/python3.9/site-packages/sklearn/covariance/_robust_covariance.py:183: RuntimeWarning: Determinant has increased; this should not happen: log(det) > log(previous_det) (15.706136077357781 > 3.523776165520069). You may want to try with a higher value of support_fraction (current value: 0.501).\n",
      "  warnings.warn(\n",
      "/shared/centos7/anaconda3/2022.05/lib/python3.9/site-packages/sklearn/covariance/_robust_covariance.py:183: RuntimeWarning: Determinant has increased; this should not happen: log(det) > log(previous_det) (16.163335081093610 > -14.144194246295616). You may want to try with a higher value of support_fraction (current value: 0.501).\n",
      "  warnings.warn(\n",
      "/shared/centos7/anaconda3/2022.05/lib/python3.9/site-packages/sklearn/covariance/_robust_covariance.py:183: RuntimeWarning: Determinant has increased; this should not happen: log(det) > log(previous_det) (14.981612181965794 > -13.633516428735332). You may want to try with a higher value of support_fraction (current value: 0.501).\n",
      "  warnings.warn(\n",
      "/shared/centos7/anaconda3/2022.05/lib/python3.9/site-packages/sklearn/covariance/_robust_covariance.py:183: RuntimeWarning: Determinant has increased; this should not happen: log(det) > log(previous_det) (15.706136077357781 > 3.487798237205752). You may want to try with a higher value of support_fraction (current value: 0.501).\n",
      "  warnings.warn(\n",
      "/shared/centos7/anaconda3/2022.05/lib/python3.9/site-packages/sklearn/covariance/_robust_covariance.py:183: RuntimeWarning: Determinant has increased; this should not happen: log(det) > log(previous_det) (15.706136077357781 > 4.214564454317498). You may want to try with a higher value of support_fraction (current value: 0.501).\n",
      "  warnings.warn(\n",
      "/shared/centos7/anaconda3/2022.05/lib/python3.9/site-packages/sklearn/covariance/_robust_covariance.py:183: RuntimeWarning: Determinant has increased; this should not happen: log(det) > log(previous_det) (16.163335081093610 > -14.184363801729166). You may want to try with a higher value of support_fraction (current value: 0.501).\n",
      "  warnings.warn(\n",
      "/shared/centos7/anaconda3/2022.05/lib/python3.9/site-packages/sklearn/covariance/_robust_covariance.py:183: RuntimeWarning: Determinant has increased; this should not happen: log(det) > log(previous_det) (16.685174223862042 > 0.903344079986344). You may want to try with a higher value of support_fraction (current value: 0.501).\n",
      "  warnings.warn(\n",
      "/shared/centos7/anaconda3/2022.05/lib/python3.9/site-packages/sklearn/covariance/_robust_covariance.py:183: RuntimeWarning: Determinant has increased; this should not happen: log(det) > log(previous_det) (16.698694369848720 > 0.903344037102346). You may want to try with a higher value of support_fraction (current value: 0.501).\n",
      "  warnings.warn(\n",
      "/shared/centos7/anaconda3/2022.05/lib/python3.9/site-packages/sklearn/covariance/_robust_covariance.py:183: RuntimeWarning: Determinant has increased; this should not happen: log(det) > log(previous_det) (16.163335081093614 > -14.725947842396788). You may want to try with a higher value of support_fraction (current value: 0.501).\n",
      "  warnings.warn(\n",
      "/shared/centos7/anaconda3/2022.05/lib/python3.9/site-packages/sklearn/covariance/_robust_covariance.py:183: RuntimeWarning: Determinant has increased; this should not happen: log(det) > log(previous_det) (16.642881965887248 > -16.640930181402613). You may want to try with a higher value of support_fraction (current value: 0.501).\n",
      "  warnings.warn(\n",
      "/shared/centos7/anaconda3/2022.05/lib/python3.9/site-packages/sklearn/covariance/_robust_covariance.py:183: RuntimeWarning: Determinant has increased; this should not happen: log(det) > log(previous_det) (15.706136077357781 > 3.487798237205823). You may want to try with a higher value of support_fraction (current value: 0.501).\n",
      "  warnings.warn(\n",
      "/shared/centos7/anaconda3/2022.05/lib/python3.9/site-packages/sklearn/covariance/_robust_covariance.py:183: RuntimeWarning: Determinant has increased; this should not happen: log(det) > log(previous_det) (15.706136077357781 > 4.213993295282849). You may want to try with a higher value of support_fraction (current value: 0.501).\n",
      "  warnings.warn(\n",
      "/shared/centos7/anaconda3/2022.05/lib/python3.9/site-packages/sklearn/covariance/_robust_covariance.py:183: RuntimeWarning: Determinant has increased; this should not happen: log(det) > log(previous_det) (16.736529932292282 > -14.108110501307985). You may want to try with a higher value of support_fraction (current value: 0.501).\n",
      "  warnings.warn(\n",
      "/shared/centos7/anaconda3/2022.05/lib/python3.9/site-packages/sklearn/covariance/_robust_covariance.py:183: RuntimeWarning: Determinant has increased; this should not happen: log(det) > log(previous_det) (14.108904213748369 > 4.006678161418111). You may want to try with a higher value of support_fraction (current value: 0.501).\n",
      "  warnings.warn(\n",
      "/shared/centos7/anaconda3/2022.05/lib/python3.9/site-packages/sklearn/covariance/_robust_covariance.py:183: RuntimeWarning: Determinant has increased; this should not happen: log(det) > log(previous_det) (16.765989755547544 > -14.384906197135228). You may want to try with a higher value of support_fraction (current value: 0.501).\n",
      "  warnings.warn(\n",
      "/shared/centos7/anaconda3/2022.05/lib/python3.9/site-packages/sklearn/covariance/_robust_covariance.py:183: RuntimeWarning: Determinant has increased; this should not happen: log(det) > log(previous_det) (16.163335081093610 > -14.237635122867934). You may want to try with a higher value of support_fraction (current value: 0.501).\n",
      "  warnings.warn(\n",
      "/shared/centos7/anaconda3/2022.05/lib/python3.9/site-packages/sklearn/covariance/_robust_covariance.py:183: RuntimeWarning: Determinant has increased; this should not happen: log(det) > log(previous_det) (16.163335081093610 > -14.221155287431742). You may want to try with a higher value of support_fraction (current value: 0.501).\n",
      "  warnings.warn(\n",
      "/shared/centos7/anaconda3/2022.05/lib/python3.9/site-packages/sklearn/covariance/_robust_covariance.py:183: RuntimeWarning: Determinant has increased; this should not happen: log(det) > log(previous_det) (16.703198604868309 > -15.951194580985774). You may want to try with a higher value of support_fraction (current value: 0.501).\n",
      "  warnings.warn(\n",
      "/shared/centos7/anaconda3/2022.05/lib/python3.9/site-packages/sklearn/covariance/_robust_covariance.py:183: RuntimeWarning: Determinant has increased; this should not happen: log(det) > log(previous_det) (16.606865969353823 > 3.356481931393318). You may want to try with a higher value of support_fraction (current value: 0.501).\n",
      "  warnings.warn(\n",
      "/shared/centos7/anaconda3/2022.05/lib/python3.9/site-packages/sklearn/covariance/_robust_covariance.py:183: RuntimeWarning: Determinant has increased; this should not happen: log(det) > log(previous_det) (16.747912436021196 > 0.908456377832994). You may want to try with a higher value of support_fraction (current value: 0.501).\n",
      "  warnings.warn(\n",
      "/shared/centos7/anaconda3/2022.05/lib/python3.9/site-packages/sklearn/covariance/_robust_covariance.py:183: RuntimeWarning: Determinant has increased; this should not happen: log(det) > log(previous_det) (15.706136077357781 > 4.213993296627065). You may want to try with a higher value of support_fraction (current value: 0.501).\n",
      "  warnings.warn(\n",
      "/shared/centos7/anaconda3/2022.05/lib/python3.9/site-packages/sklearn/covariance/_robust_covariance.py:183: RuntimeWarning: Determinant has increased; this should not happen: log(det) > log(previous_det) (16.163335081093610 > -14.351417886392330). You may want to try with a higher value of support_fraction (current value: 0.501).\n",
      "  warnings.warn(\n",
      "/shared/centos7/anaconda3/2022.05/lib/python3.9/site-packages/sklearn/covariance/_robust_covariance.py:183: RuntimeWarning: Determinant has increased; this should not happen: log(det) > log(previous_det) (15.974575282063480 > 4.212486199928223). You may want to try with a higher value of support_fraction (current value: 0.501).\n",
      "  warnings.warn(\n",
      "/shared/centos7/anaconda3/2022.05/lib/python3.9/site-packages/sklearn/covariance/_robust_covariance.py:183: RuntimeWarning: Determinant has increased; this should not happen: log(det) > log(previous_det) (16.080510663969037 > -14.917540375538030). You may want to try with a higher value of support_fraction (current value: 0.501).\n",
      "  warnings.warn(\n",
      "/shared/centos7/anaconda3/2022.05/lib/python3.9/site-packages/sklearn/covariance/_robust_covariance.py:183: RuntimeWarning: Determinant has increased; this should not happen: log(det) > log(previous_det) (14.981612181965794 > -13.625679823809351). You may want to try with a higher value of support_fraction (current value: 0.501).\n",
      "  warnings.warn(\n",
      "/shared/centos7/anaconda3/2022.05/lib/python3.9/site-packages/sklearn/covariance/_robust_covariance.py:183: RuntimeWarning: Determinant has increased; this should not happen: log(det) > log(previous_det) (10.457756148452690 > -17.939622050495803). You may want to try with a higher value of support_fraction (current value: 0.501).\n",
      "  warnings.warn(\n",
      "/shared/centos7/anaconda3/2022.05/lib/python3.9/site-packages/sklearn/covariance/_robust_covariance.py:183: RuntimeWarning: Determinant has increased; this should not happen: log(det) > log(previous_det) (15.706136077357774 > 3.485469037836935). You may want to try with a higher value of support_fraction (current value: 0.501).\n",
      "  warnings.warn(\n",
      "/shared/centos7/anaconda3/2022.05/lib/python3.9/site-packages/sklearn/covariance/_robust_covariance.py:183: RuntimeWarning: Determinant has increased; this should not happen: log(det) > log(previous_det) (15.974575282063480 > 1.037645773291962). You may want to try with a higher value of support_fraction (current value: 0.501).\n",
      "  warnings.warn(\n",
      "/shared/centos7/anaconda3/2022.05/lib/python3.9/site-packages/sklearn/covariance/_robust_covariance.py:183: RuntimeWarning: Determinant has increased; this should not happen: log(det) > log(previous_det) (16.163335081093610 > -14.348988658941629). You may want to try with a higher value of support_fraction (current value: 0.501).\n",
      "  warnings.warn(\n",
      "/shared/centos7/anaconda3/2022.05/lib/python3.9/site-packages/sklearn/covariance/_robust_covariance.py:183: RuntimeWarning: Determinant has increased; this should not happen: log(det) > log(previous_det) (15.706136077357781 > 4.214564453647103). You may want to try with a higher value of support_fraction (current value: 0.501).\n",
      "  warnings.warn(\n",
      "/shared/centos7/anaconda3/2022.05/lib/python3.9/site-packages/sklearn/covariance/_robust_covariance.py:183: RuntimeWarning: Determinant has increased; this should not happen: log(det) > log(previous_det) (16.685174223862042 > 0.903343994217139). You may want to try with a higher value of support_fraction (current value: 0.501).\n",
      "  warnings.warn(\n",
      "/shared/centos7/anaconda3/2022.05/lib/python3.9/site-packages/sklearn/covariance/_robust_covariance.py:183: RuntimeWarning: Determinant has increased; this should not happen: log(det) > log(previous_det) (16.642881965887248 > -18.027224542522504). You may want to try with a higher value of support_fraction (current value: 0.501).\n",
      "  warnings.warn(\n",
      "/shared/centos7/anaconda3/2022.05/lib/python3.9/site-packages/sklearn/covariance/_robust_covariance.py:183: RuntimeWarning: Determinant has increased; this should not happen: log(det) > log(previous_det) (15.974575282063483 > 3.481044365512649). You may want to try with a higher value of support_fraction (current value: 0.501).\n",
      "  warnings.warn(\n",
      "/shared/centos7/anaconda3/2022.05/lib/python3.9/site-packages/sklearn/covariance/_robust_covariance.py:183: RuntimeWarning: Determinant has increased; this should not happen: log(det) > log(previous_det) (10.451284133230669 > -16.760069066662382). You may want to try with a higher value of support_fraction (current value: 0.501).\n",
      "  warnings.warn(\n",
      "/shared/centos7/anaconda3/2022.05/lib/python3.9/site-packages/sklearn/covariance/_robust_covariance.py:183: RuntimeWarning: Determinant has increased; this should not happen: log(det) > log(previous_det) (16.080510663969044 > -13.738832788029450). You may want to try with a higher value of support_fraction (current value: 0.501).\n",
      "  warnings.warn(\n",
      "/shared/centos7/anaconda3/2022.05/lib/python3.9/site-packages/sklearn/covariance/_robust_covariance.py:183: RuntimeWarning: Determinant has increased; this should not happen: log(det) > log(previous_det) (16.627481044663632 > 3.654103071512365). You may want to try with a higher value of support_fraction (current value: 0.501).\n",
      "  warnings.warn(\n",
      "/shared/centos7/anaconda3/2022.05/lib/python3.9/site-packages/sklearn/covariance/_robust_covariance.py:183: RuntimeWarning: Determinant has increased; this should not happen: log(det) > log(previous_det) (16.080510663969037 > -13.656184618990384). You may want to try with a higher value of support_fraction (current value: 0.501).\n",
      "  warnings.warn(\n",
      "/shared/centos7/anaconda3/2022.05/lib/python3.9/site-packages/sklearn/covariance/_robust_covariance.py:183: RuntimeWarning: Determinant has increased; this should not happen: log(det) > log(previous_det) (16.163335081093617 > -14.142655377955311). You may want to try with a higher value of support_fraction (current value: 0.501).\n",
      "  warnings.warn(\n",
      "/shared/centos7/anaconda3/2022.05/lib/python3.9/site-packages/sklearn/covariance/_robust_covariance.py:183: RuntimeWarning: Determinant has increased; this should not happen: log(det) > log(previous_det) (15.706136077357781 > 4.213993295507033). You may want to try with a higher value of support_fraction (current value: 0.501).\n",
      "  warnings.warn(\n",
      "/shared/centos7/anaconda3/2022.05/lib/python3.9/site-packages/sklearn/covariance/_robust_covariance.py:183: RuntimeWarning: Determinant has increased; this should not happen: log(det) > log(previous_det) (16.167602708161887 > -13.689597439135216). You may want to try with a higher value of support_fraction (current value: 0.501).\n",
      "  warnings.warn(\n",
      "/shared/centos7/anaconda3/2022.05/lib/python3.9/site-packages/sklearn/covariance/_robust_covariance.py:183: RuntimeWarning: Determinant has increased; this should not happen: log(det) > log(previous_det) (16.765989755547544 > -15.247326028636589). You may want to try with a higher value of support_fraction (current value: 0.501).\n",
      "  warnings.warn(\n",
      "/shared/centos7/anaconda3/2022.05/lib/python3.9/site-packages/sklearn/covariance/_robust_covariance.py:183: RuntimeWarning: Determinant has increased; this should not happen: log(det) > log(previous_det) (16.080510663969037 > -13.738341922405803). You may want to try with a higher value of support_fraction (current value: 0.501).\n",
      "  warnings.warn(\n",
      "/shared/centos7/anaconda3/2022.05/lib/python3.9/site-packages/sklearn/covariance/_robust_covariance.py:183: RuntimeWarning: Determinant has increased; this should not happen: log(det) > log(previous_det) (16.716956154243743 > -16.186274009247221). You may want to try with a higher value of support_fraction (current value: 0.501).\n",
      "  warnings.warn(\n",
      "/shared/centos7/anaconda3/2022.05/lib/python3.9/site-packages/sklearn/covariance/_robust_covariance.py:183: RuntimeWarning: Determinant has increased; this should not happen: log(det) > log(previous_det) (16.642881965887248 > -17.334077361962557). You may want to try with a higher value of support_fraction (current value: 0.501).\n",
      "  warnings.warn(\n",
      "/shared/centos7/anaconda3/2022.05/lib/python3.9/site-packages/sklearn/covariance/_robust_covariance.py:183: RuntimeWarning: Determinant has increased; this should not happen: log(det) > log(previous_det) (16.765989755547547 > -13.994834536091464). You may want to try with a higher value of support_fraction (current value: 0.501).\n",
      "  warnings.warn(\n",
      "/shared/centos7/anaconda3/2022.05/lib/python3.9/site-packages/sklearn/covariance/_robust_covariance.py:183: RuntimeWarning: Determinant has increased; this should not happen: log(det) > log(previous_det) (17.808325952232753 > 5.725071988807168). You may want to try with a higher value of support_fraction (current value: 0.500).\n",
      "  warnings.warn(\n",
      "2024-12-12 00:22:55 - INFO - Time taken to process the block: 0:00:56.940179\n"
     ]
    },
    {
     "name": "stdout",
     "output_type": "stream",
     "text": [
      "Robust Covariance Prediction Type: <class 'numpy.ndarray'>\n",
      "Robust Covariance Outlier/Inlier Counts: (array([-1,  1]), array([ 21087, 400757]))\n",
      "Original Data Row Count: 421844\n",
      "Filtered Data Row Count: 377182\n",
      "Filtered Data Sample:\n",
      "   Min Packet Length  PSH Flag Count  Init_Win_bytes_forward  \\\n",
      "0                  0               1                    8192   \n",
      "1                  0               1                    8192   \n",
      "2                  0               1                    8192   \n",
      "3                  0               1                    8192   \n",
      "4                  0               1                    8192   \n",
      "\n",
      "   act_data_pkt_fwd   Label  \n",
      "0                 2  BENIGN  \n",
      "1                 2  BENIGN  \n",
      "2                 2  BENIGN  \n",
      "3                 2  BENIGN  \n",
      "4                 2  BENIGN  \n"
     ]
    }
   ],
   "source": [
    "# Start time to track execution duration\n",
    "start_time = datetime.datetime.now()\n",
    "\n",
    "# Column to remove\n",
    "column_to_remove = 'Label_numeric'\n",
    "\n",
    "# Column to add\n",
    "column_to_add = 'Label'\n",
    "\n",
    "# Remove the column if it exists in the list\n",
    "if column_to_remove in selected_features:\n",
    "    selected_features.remove(column_to_remove)\n",
    "\n",
    "# Add the new column\n",
    "selected_features.append(column_to_add)\n",
    "\n",
    "print(\"Updated selected_features:\", selected_features)\n",
    "\n",
    "# Ensure selected_features exists in the data columns\n",
    "selected_features_in_data = [col for col in selected_features if col in data.columns]\n",
    "\n",
    "# Subset the dataframe and reassign it to the same variable\n",
    "data = data[selected_features_in_data]\n",
    "\n",
    "# Step 0: Separate the target variable 'Label' from the features\n",
    "label_column = data[\"Label\"]  # Save the target column\n",
    "data_without_label = data.drop(columns=[\"Label\"])  # Drop the target column for outlier detection\n",
    "\n",
    "# -----------------------------------------------------------------------------\n",
    "# Step 1: Fit the Local Outlier Factor (LOF) model\n",
    "# -----------------------------------------------------------------------------\n",
    "lof = LocalOutlierFactor(n_neighbors=20, contamination=0.05)\n",
    "# Predict the labels for each data point as either outlier (-1) or inlier (1)\n",
    "y_pred_lof = lof.fit_predict(data_without_label)\n",
    "\n",
    "# Display the type of 'y_pred_lof' and frequency of each label\n",
    "print(\"LOF Prediction Type:\", type(y_pred_lof))\n",
    "print(\"LOF Outlier/Inlier Counts:\", np.unique(y_pred_lof, return_counts=True))\n",
    "\n",
    "\n",
    "# -----------------------------------------------------------------------------\n",
    "# Step 2: Fit the Isolation Forest model\n",
    "# -----------------------------------------------------------------------------\n",
    "iforest = IsolationForest(n_estimators=100, contamination=0.05, random_state=42)\n",
    "# Predict the labels for each data point as either outlier (-1) or inlier (1)\n",
    "y_pred_if = iforest.fit_predict(data_without_label)\n",
    "\n",
    "# Display the type of 'y_pred_if' and frequency of each label\n",
    "print(\"Isolation Forest Prediction Type:\", type(y_pred_if))\n",
    "print(\"Isolation Forest Outlier/Inlier Counts:\", np.unique(y_pred_if, return_counts=True))\n",
    "\n",
    "\n",
    "# -----------------------------------------------------------------------------\n",
    "# Step 3: Fit the robust covariance model (Elliptic Envelope)\n",
    "# -----------------------------------------------------------------------------\n",
    "rob_cov = EllipticEnvelope(contamination=0.05, random_state=42)\n",
    "# Fit the model and predict labels for each data point as either outlier (-1) or inlier (1)\n",
    "rob_cov.fit(data_without_label)\n",
    "y_pred_rob = rob_cov.predict(data_without_label)\n",
    "\n",
    "# Display the type of 'y_pred_rob' and frequency of each label\n",
    "print(\"Robust Covariance Prediction Type:\", type(y_pred_rob))\n",
    "print(\"Robust Covariance Outlier/Inlier Counts:\", np.unique(y_pred_rob, return_counts=True))\n",
    "\n",
    "\n",
    "# -----------------------------------------------------------------------------\n",
    "# Add the newly predicted labels to the data_without_label DataFrame\n",
    "# -----------------------------------------------------------------------------\n",
    "data_without_label[\"y_pred_lof\"] = y_pred_lof\n",
    "data_without_label[\"y_pred_if\"] = y_pred_if\n",
    "data_without_label[\"y_pred_rob\"] = y_pred_rob\n",
    "\n",
    "# -----------------------------------------------------------------------------\n",
    "# Filter the data to keep only rows identified as inliers (label = 1) by all three methods\n",
    "# -----------------------------------------------------------------------------\n",
    "filtered_data = data_without_label[\n",
    "    (data_without_label[\"y_pred_lof\"] == 1) & \n",
    "    (data_without_label[\"y_pred_if\"] == 1) & \n",
    "    (data_without_label[\"y_pred_rob\"] == 1)\n",
    "]\n",
    "\n",
    "# Drop temporary outlier columns\n",
    "filtered_data = filtered_data.drop(columns=[\"y_pred_lof\", \"y_pred_if\", \"y_pred_rob\"])\n",
    "\n",
    "# Reattach the target column 'Label' to the filtered dataframe\n",
    "filtered_data[\"Label\"] = label_column.loc[filtered_data.index]\n",
    "\n",
    "# -----------------------------------------------------------------------------\n",
    "# Display the resulting filtered data and row counts\n",
    "# -----------------------------------------------------------------------------\n",
    "print(\"Original Data Row Count:\", data.shape[0])\n",
    "print(\"Filtered Data Row Count:\", filtered_data.shape[0])\n",
    "print(\"Filtered Data Sample:\")\n",
    "print(filtered_data.head())\n",
    "\n",
    "data = filtered_data\n",
    "\n",
    "stop_time = datetime.datetime.now()\n",
    "logger.info(f\"Time taken to process the block: {stop_time - start_time}\")"
   ]
  },
  {
   "cell_type": "markdown",
   "id": "686b3bf7-ad60-43fa-b2fb-43fd5350f305",
   "metadata": {},
   "source": [
    "## 11. Final dataset shape before training and testing"
   ]
  },
  {
   "cell_type": "markdown",
   "id": "f0669739-8ba8-47a0-8d50-9b676a838ec1",
   "metadata": {},
   "source": [
    "This code provides a summary of the dataset's final shape after all preprocessing steps. It calculates the total number of rows and columns removed by comparing the dataset's initial shape to its final shape. The final dimensions of the dataset, along with the counts of removed rows and columns, are logged for reference. The time taken to execute this block is also measured and logged, providing insights into the overall efficiency of the preprocessing process."
   ]
  },
  {
   "cell_type": "code",
   "execution_count": 12,
   "id": "4ba2068c-2e8f-4478-b1a9-5dbca513d5c0",
   "metadata": {},
   "outputs": [
    {
     "name": "stderr",
     "output_type": "stream",
     "text": [
      "2024-12-12 00:22:55 - INFO - Step 10: Final Dataset Shape: (377182, 5)\n",
      "2024-12-12 00:22:55 - INFO - Summary: 68727 rows and 74 columns removed in total.\n",
      "2024-12-12 00:22:55 - INFO - Time taken to process the block: 0:00:00.001698\n"
     ]
    }
   ],
   "source": [
    "start_time = datetime.datetime.now()\n",
    "\n",
    "# Final dataset shape\n",
    "final_shape = data.shape\n",
    "rows_removed_total = initial_shape[0] - final_shape[0]\n",
    "columns_removed_total = initial_shape[1] - final_shape[1]\n",
    "logger.info(f\"Step 10: Final Dataset Shape: {data.shape}\")\n",
    "logger.info(f\"Summary: {rows_removed_total} rows and {columns_removed_total} columns removed in total.\")\n",
    "stop_time = datetime.datetime.now()\n",
    "logger.info(f\"Time taken to process the block: {stop_time - start_time}\")"
   ]
  },
  {
   "cell_type": "markdown",
   "id": "c069a22d-70e5-4697-a2cf-b883a4f15569",
   "metadata": {},
   "source": [
    "## 12. Standardizing the numerical values"
   ]
  },
  {
   "cell_type": "markdown",
   "id": "f6f4abb6-280d-47ce-ba7b-7bce5e93f048",
   "metadata": {},
   "source": [
    "This code normalizes the numerical features in the dataset to ensure they are on a similar scale, which is important for many machine learning algorithms. It identifies the numeric columns in the dataset and uses the `StandardScaler` to standardize their values by removing the mean and scaling to unit variance. The dataset's shape is logged after normalization, confirming that no rows or columns were removed during this process. Additionally, the time taken to execute this step is measured and logged for performance tracking."
   ]
  },
  {
   "cell_type": "code",
   "execution_count": 13,
   "id": "a199b6db-efc6-4f41-98be-da7dde964be1",
   "metadata": {},
   "outputs": [
    {
     "name": "stderr",
     "output_type": "stream",
     "text": [
      "2024-12-12 00:22:55 - INFO - Step 8: Dataset Shape after normalizing numerical features: (377182, 5) (No rows/columns removed)\n",
      "2024-12-12 00:22:55 - INFO - Time taken to process the block: 0:00:00.031469\n"
     ]
    }
   ],
   "source": [
    "start_time = datetime.datetime.now()\n",
    "# Step 8: Normalize numerical features\n",
    "# Recompute numeric columns after correlation analysis\n",
    "numeric_columns = data.select_dtypes(include=[\"float64\", \"int64\"]).columns\n",
    "scaler = StandardScaler()\n",
    "data[numeric_columns] = scaler.fit_transform(data[numeric_columns])\n",
    "logger.info(f\"Step 8: Dataset Shape after normalizing numerical features: {data.shape} (No rows/columns removed)\")\n",
    "stop_time = datetime.datetime.now()\n",
    "logger.info(f\"Time taken to process the block: {stop_time - start_time}\")"
   ]
  },
  {
   "cell_type": "markdown",
   "id": "a0b4cdea-556a-4fdd-b982-662188013e3b",
   "metadata": {},
   "source": [
    "## PCA - Dimension Reduction"
   ]
  },
  {
   "cell_type": "markdown",
   "id": "592378c6-7517-4ed3-99c1-58ff8944cc17",
   "metadata": {},
   "source": [
    "This code performs Principal Component Analysis (PCA) to reduce the dimensionality of the dataset while retaining most of the variance. It begins by separating the features and target variable (`Label`). Initially, PCA is performed on all features to analyze the explained variance for each principal component. The cumulative variance is calculated to determine the number of components required to retain at least 95% of the variance.\n",
    "\n",
    "Once the optimal number of components is identified, PCA is re-applied to reduce the dataset to this number of components. The reduced components are then stored in a new DataFrame with appropriately named columns (e.g., `PC1`, `PC2`, etc.), and the target variable is reattached. The resulting DataFrame with reduced dimensions is displayed, and the time taken to execute the process is logged for performance analysis. This approach ensures the dataset is simplified while preserving its essential information for further analysis or modeling."
   ]
  },
  {
   "cell_type": "code",
   "execution_count": 14,
   "id": "685e3d24-6f8e-4896-9016-3ca52af75e4f",
   "metadata": {},
   "outputs": [
    {
     "name": "stdout",
     "output_type": "stream",
     "text": [
      "Explained Variance Ratio: [0.63867474 0.18771779 0.13196476 0.04164271]\n",
      "Cumulative Variance: [0.63867474 0.82639253 0.95835729 1.        ]\n",
      "Number of components to retain: 3\n"
     ]
    },
    {
     "name": "stderr",
     "output_type": "stream",
     "text": [
      "2024-12-12 00:22:55 - INFO - Time taken to process the block: 0:00:00.207326\n"
     ]
    },
    {
     "name": "stdout",
     "output_type": "stream",
     "text": [
      "Data after PCA:\n",
      "       PC1      PC2       PC3   Label\n",
      "0  1.77038 -0.39755  0.021653  BENIGN\n",
      "1  1.77038 -0.39755  0.021653  BENIGN\n",
      "2  1.77038 -0.39755  0.021653  BENIGN\n",
      "3  1.77038 -0.39755  0.021653  BENIGN\n",
      "4  1.77038 -0.39755  0.021653  BENIGN\n"
     ]
    }
   ],
   "source": [
    "start_time = datetime.datetime.now()\n",
    "# Step 1: Separate features and target\n",
    "features = data.drop(columns=['Label'])  # Drop the 'Label' column to keep only features\n",
    "target = data['Label']  # Save the target column\n",
    "\n",
    "# Step 2: Perform PCA\n",
    "pca = PCA()  # Keep all components initially to analyze explained variance\n",
    "pca_components = pca.fit_transform(features)\n",
    "\n",
    "# Step 3: Analyze explained variance to decide number of components\n",
    "explained_variance_ratio = pca.explained_variance_ratio_\n",
    "cumulative_variance = explained_variance_ratio.cumsum()\n",
    "print(\"Explained Variance Ratio:\", explained_variance_ratio)\n",
    "print(\"Cumulative Variance:\", cumulative_variance)\n",
    "\n",
    "# Step 4: Choose the number of components (e.g., 95% of variance)\n",
    "n_components = next(i for i, total_var in enumerate(cumulative_variance) if total_var >= 0.95) + 1\n",
    "print(f\"Number of components to retain: {n_components}\")\n",
    "\n",
    "# Step 5: Perform PCA with the chosen number of components\n",
    "pca = PCA(n_components=n_components)\n",
    "reduced_components = pca.fit_transform(features)\n",
    "\n",
    "# Step 6: Create a dataframe for the reduced components and merge with the target\n",
    "pca_columns = [f\"PC{i+1}\" for i in range(n_components)]\n",
    "reduced_data = pd.DataFrame(reduced_components, columns=pca_columns)\n",
    "reduced_data['Label'] = target.reset_index(drop=True)  # Add the target column back\n",
    "\n",
    "# Step 7: Resulting dataframe\n",
    "print(\"Data after PCA:\")\n",
    "print(reduced_data.head())\n",
    "\n",
    "stop_time = datetime.datetime.now()\n",
    "logger.info(f\"Time taken to process the block: {stop_time - start_time}\")"
   ]
  },
  {
   "cell_type": "markdown",
   "id": "9c00e416-ea68-442f-a343-942d0574783b",
   "metadata": {},
   "source": [
    "## Train-Validation-Test Split"
   ]
  },
  {
   "cell_type": "markdown",
   "id": "12d125d2-0843-4e8b-91c5-89a2b15090b9",
   "metadata": {},
   "source": [
    "This code prepares the dataset for training by encoding the target variable, splitting the data into training, validation, and testing sets, and addressing class imbalance. It starts by separating the `Label` column from the features and encoding it using `LabelEncoder` to convert categorical values into numeric form. The dataset is then split into training, validation, and test sets using `train_test_split`, ensuring a 40% split for the temporary validation and test sets, which are further divided equally.\n",
    "\n",
    "To handle class imbalance in the training set, the code applies SMOTE (Synthetic Minority Oversampling Technique), which generates synthetic samples for the minority class to balance the dataset. The shapes of the balanced training set and the unbalanced validation and testing sets are printed for verification. Finally, the time taken to complete the process is logged to monitor performance. This workflow ensures the data is ready for model training, with balanced classes in the training set for better learning."
   ]
  },
  {
   "cell_type": "code",
   "execution_count": 15,
   "id": "0c88ea9c-3547-4bf9-b29d-975b91ba443b",
   "metadata": {},
   "outputs": [
    {
     "name": "stdout",
     "output_type": "stream",
     "text": [
      "Class Distribution in Training Set: Counter({0: 222638, 1: 3507, 2: 164})\n"
     ]
    },
    {
     "name": "stderr",
     "output_type": "stream",
     "text": [
      "2024-12-12 00:22:55 - INFO - Time taken to process the block: 0:00:00.239092\n"
     ]
    },
    {
     "name": "stdout",
     "output_type": "stream",
     "text": [
      "Training Data Shape: (667914, 3)\n",
      "Validation Data Shape: (75436, 3)\n",
      "Testing Data Shape: (75437, 3)\n"
     ]
    }
   ],
   "source": [
    "start_time = datetime.datetime.now()\n",
    "\n",
    "# Step 1: Exclude 'Label' column and encode it\n",
    "label_column = reduced_data['Label']\n",
    "reduced_data = reduced_data.drop(columns=['Label'])\n",
    "\n",
    "label_encoder = LabelEncoder()\n",
    "label_column_encoded = label_encoder.fit_transform(label_column)\n",
    "\n",
    "# Step 2: Train-validation-test split\n",
    "X_train, X_temp, y_train, y_temp = train_test_split(\n",
    "    reduced_data, label_column_encoded, test_size=0.4, random_state=42\n",
    ")\n",
    "X_val, X_test, y_val, y_test = train_test_split(X_temp, y_temp, test_size=0.5, random_state=42)\n",
    "\n",
    "print(\"Class Distribution in Training Set:\", Counter(y_train))\n",
    "\n",
    "# Step 3: Handle class imbalance with SMOTE\n",
    "smote = SMOTE(random_state=42, k_neighbors=2) # Remove k_neighbors in SMOTE\n",
    "X_train_balanced, y_train_balanced = smote.fit_resample(X_train, y_train)\n",
    "\n",
    "# Print dataset shapes\n",
    "print(\"Training Data Shape:\", X_train_balanced.shape)\n",
    "print(\"Validation Data Shape:\", X_val.shape)\n",
    "print(\"Testing Data Shape:\", X_test.shape)\n",
    "\n",
    "stop_time = datetime.datetime.now()\n",
    "logger.info(f\"Time taken to process the block: {stop_time - start_time}\")"
   ]
  },
  {
   "cell_type": "markdown",
   "id": "851cbc58-66ed-47f5-b4dc-6d26c80c0a19",
   "metadata": {},
   "source": [
    "## Logistic Regression Model"
   ]
  },
  {
   "cell_type": "markdown",
   "id": "89cd674a-dd77-4be1-920b-684692b3c9e7",
   "metadata": {},
   "source": [
    "This code trains and evaluates a Logistic Regression model with hyperparameter tuning using Grid Search. First, the Logistic Regression model is initialized with a solver (`lbfgs`) and a maximum number of iterations set to 1000. A grid of hyperparameters is defined, including different values for the regularization strength (`C`) and the penalty type (`l2`).\n",
    "\n",
    "Grid Search with 3-fold cross-validation is performed using `GridSearchCV` to find the best combination of hyperparameters. The model is trained on the balanced training set, and the best model is selected based on the accuracy score. The selected model is then evaluated on the validation set, and metrics such as accuracy, F1 score, and a detailed classification report are calculated and printed. The total time taken for this process is logged to track execution performance. This workflow ensures the model is optimized for better predictive performance."
   ]
  },
  {
   "cell_type": "code",
   "execution_count": 16,
   "id": "8bc2e414-c60e-49bd-ace5-d8c072916cea",
   "metadata": {},
   "outputs": [
    {
     "name": "stderr",
     "output_type": "stream",
     "text": [
      "2024-12-12 00:23:10 - INFO - Time taken to process the block: 0:00:15.277417\n"
     ]
    },
    {
     "name": "stdout",
     "output_type": "stream",
     "text": [
      "Logistic Regression Validation Accuracy: 0.5264992841614083\n",
      "Logistic Regression F1 Score: 0.6775536360247052\n",
      "Classification Report:\n",
      "               precision    recall  f1-score   support\n",
      "\n",
      "           0       1.00      0.52      0.69     74164\n",
      "           1       0.05      0.67      0.10      1206\n",
      "           2       0.00      0.88      0.01        66\n",
      "\n",
      "    accuracy                           0.53     75436\n",
      "   macro avg       0.35      0.69      0.26     75436\n",
      "weighted avg       0.98      0.53      0.68     75436\n",
      "\n"
     ]
    }
   ],
   "source": [
    "start_time = datetime.datetime.now()\n",
    "\n",
    "# Step 1: Initialize the model\n",
    "logistic_model = LogisticRegression(solver='lbfgs', max_iter=1000, random_state=42)\n",
    "\n",
    "# Step 2: Define hyperparameter grid\n",
    "param_grid = {\n",
    "    'C': [0.01, 0.1, 1, 10],\n",
    "    'penalty': ['l2']\n",
    "}\n",
    "\n",
    "# Step 3: Perform Grid Search for hyperparameter tuning\n",
    "grid_search = GridSearchCV(estimator=logistic_model, param_grid=param_grid, cv=3, scoring='accuracy', n_jobs=-1)\n",
    "grid_search.fit(X_train_balanced, y_train_balanced)\n",
    "\n",
    "# Step 4: Evaluate the model\n",
    "best_logistic_model = grid_search.best_estimator_\n",
    "y_val_pred = best_logistic_model.predict(X_val)\n",
    "\n",
    "print(\"Logistic Regression Validation Accuracy:\", accuracy_score(y_val, y_val_pred))\n",
    "print(\"Logistic Regression F1 Score:\", f1_score(y_val, y_val_pred, average='weighted'))\n",
    "print(\"Classification Report:\\n\", classification_report(y_val, y_val_pred))\n",
    "\n",
    "stop_time = datetime.datetime.now()\n",
    "logger.info(f\"Time taken to process the block: {stop_time - start_time}\")"
   ]
  },
  {
   "cell_type": "markdown",
   "id": "16645370-e93b-4d5c-958a-00718ce3ebed",
   "metadata": {},
   "source": [
    "### Summary:\n",
    "The validation results for the Logistic Regression model indicate moderate overall performance, with an accuracy of 52.65% and an F1 score of 67.76%. The model performs well for the dominant class `0`, achieving perfect precision (1.00) but limited recall (52%), resulting in an F1 score of 0.69. However, it struggles significantly with the minority classes.\n",
    "\n",
    "Class `1` has very low precision (0.05) but achieves a recall of 67%, leading to an F1 score of just 0.10. Class `2`, despite having a high recall of 88%, has near-zero precision and an F1 score of only 0.01, likely due to the small number of samples (66 instances).\n",
    "\n",
    "The macro average metrics (precision: 0.35, recall: 0.69, F1 score: 0.26) highlight the challenges faced by the model in predicting minority classes, while the weighted averages (precision: 0.98, recall: 0.53, F1 score: 0.68) are heavily influenced by the majority class `0`. These results suggest that while the model handles the majority class well, it requires techniques like class weighting, oversampling, or advanced algorithms to improve its performance for minority classes."
   ]
  },
  {
   "cell_type": "markdown",
   "id": "5919f5b1-b2d7-4c7b-a166-e1cff59f7896",
   "metadata": {},
   "source": [
    "## Random Forest Model"
   ]
  },
  {
   "cell_type": "markdown",
   "id": "6a955fee-d652-4465-8675-643f51f896f2",
   "metadata": {},
   "source": [
    "This code trains and evaluates a Random Forest Classifier, including hyperparameter tuning using Randomized Search. First, the Random Forest model is initialized with a specified random state and configured to utilize multiple CPU cores (`n_jobs=-1`) for faster processing. A hyperparameter grid is defined, including potential values for the number of estimators (`n_estimators`), maximum tree depth (`max_depth`), minimum samples required to split a node (`min_samples_split`), and minimum samples required for a leaf node (`min_samples_leaf`).\n",
    "\n",
    "Randomized Search with 3-fold cross-validation is performed using `RandomizedSearchCV` to explore 50 different combinations of hyperparameters randomly. The best model is selected based on cross-validation results, and this optimized model is used to make predictions on the validation set. The validation accuracy, F1 score, and a detailed classification report are calculated and printed to assess the model's performance. Finally, the total time taken for this entire process is logged to track execution efficiency. This workflow ensures the Random Forest model is finely tuned for optimal performance."
   ]
  },
  {
   "cell_type": "code",
   "execution_count": 17,
   "id": "366f4892-16ef-4269-8795-7803025cd4fb",
   "metadata": {},
   "outputs": [
    {
     "name": "stderr",
     "output_type": "stream",
     "text": [
      "/home/sajadhyder.r/.local/lib/python3.9/site-packages/joblib/externals/loky/process_executor.py:752: UserWarning: A worker stopped while some jobs were given to the executor. This can be caused by a too short worker timeout or by a memory leak.\n",
      "  warnings.warn(\n",
      "2024-12-12 00:26:33 - INFO - Time taken to process the block: 0:03:22.972760\n"
     ]
    },
    {
     "name": "stdout",
     "output_type": "stream",
     "text": [
      "Random Forest Validation Accuracy: 0.9778885412800254\n",
      "Random Forest F1 Score: 0.9851764021824405\n",
      "Classification Report:\n",
      "               precision    recall  f1-score   support\n",
      "\n",
      "           0       1.00      0.98      0.99     74164\n",
      "           1       0.70      1.00      0.82      1206\n",
      "           2       0.05      0.92      0.10        66\n",
      "\n",
      "    accuracy                           0.98     75436\n",
      "   macro avg       0.58      0.97      0.63     75436\n",
      "weighted avg       0.99      0.98      0.99     75436\n",
      "\n"
     ]
    }
   ],
   "source": [
    "start_time = datetime.datetime.now()\n",
    "\n",
    "# Step 1: Initialize the model\n",
    "rf_model = RandomForestClassifier(random_state=42, n_jobs=-1)\n",
    "\n",
    "# Step 2: Define hyperparameter grid\n",
    "param_dist = {\n",
    "    'n_estimators': [100, 200, 500],\n",
    "    'max_depth': [None, 10, 20, 30],\n",
    "    'min_samples_split': [2, 5, 10],\n",
    "    'min_samples_leaf': [1, 2, 4]\n",
    "}\n",
    "\n",
    "# Step 3: Perform Randomized Search for hyperparameter tuning\n",
    "random_search = RandomizedSearchCV(estimator=rf_model, param_distributions=param_dist, n_iter=50, cv=3, random_state=42, n_jobs=-1)\n",
    "random_search.fit(X_train_balanced, y_train_balanced)\n",
    "\n",
    "# Step 4: Evaluate the model\n",
    "best_rf_model = random_search.best_estimator_\n",
    "y_val_pred = best_rf_model.predict(X_val)\n",
    "\n",
    "print(\"Random Forest Validation Accuracy:\", accuracy_score(y_val, y_val_pred))\n",
    "print(\"Random Forest F1 Score:\", f1_score(y_val, y_val_pred, average='weighted'))\n",
    "print(\"Classification Report:\\n\", classification_report(y_val, y_val_pred))\n",
    "\n",
    "stop_time = datetime.datetime.now()\n",
    "logger.info(f\"Time taken to process the block: {stop_time - start_time}\")"
   ]
  },
  {
   "cell_type": "markdown",
   "id": "a70b73a8-4827-4aa6-bcd5-272f4ca7ec86",
   "metadata": {},
   "source": [
    "### Summary:\n",
    "The validation results for the Random Forest model indicate excellent overall performance, with an accuracy of 97.79% and an F1 score of 98.52%. The model performs exceptionally well for the dominant class `0`, achieving near-perfect precision (1.00), recall (98%), and an F1 score of 0.99. This highlights the model's ability to effectively classify the majority class.\n",
    "\n",
    "For the minority classes, the model demonstrates significant improvements compared to Logistic Regression. Class `1` achieves a precision of 70% and perfect recall (100%), resulting in an F1 score of 0.82. Class `2`, while having a low precision (0.05) due to the small number of samples, achieves a high recall (92%) and an F1 score of 0.10.\n",
    "\n",
    "The macro average metrics (precision: 0.58, recall: 0.97, F1 score: 0.63) reflect strong recall across all classes but highlight the lower precision for minority classes. The weighted averages (precision: 0.99, recall: 0.98, F1 score: 0.99) are heavily influenced by the dominant class. These results demonstrate that the Random Forest model handles the majority class effectively while significantly improving performance on minority classes compared to simpler models. However, further adjustments like oversampling or fine-tuning may help address the precision issues for the smallest class."
   ]
  },
  {
   "cell_type": "markdown",
   "id": "5311be3b-3bf5-4dc8-a663-ccfd8f4500cf",
   "metadata": {},
   "source": [
    "## XG Boost Model"
   ]
  },
  {
   "cell_type": "code",
   "execution_count": 18,
   "id": "c7fa3dcc-7ea3-4e79-9dc5-932d9a7bebf0",
   "metadata": {},
   "outputs": [
    {
     "name": "stdout",
     "output_type": "stream",
     "text": [
      "Defaulting to user installation because normal site-packages is not writeable\n",
      "Requirement already satisfied: xgboost in /home/sajadhyder.r/.local/lib/python3.9/site-packages (2.1.2)\n",
      "Requirement already satisfied: scipy in /home/sajadhyder.r/.local/lib/python3.9/site-packages (from xgboost) (1.13.1)\n",
      "Requirement already satisfied: numpy in /home/sajadhyder.r/.local/lib/python3.9/site-packages (from xgboost) (1.26.4)\n",
      "Note: you may need to restart the kernel to use updated packages.\n"
     ]
    }
   ],
   "source": [
    "pip install xgboost"
   ]
  },
  {
   "cell_type": "code",
   "execution_count": 19,
   "id": "a6911b4e-7231-4364-bccb-3caa5b805035",
   "metadata": {},
   "outputs": [],
   "source": [
    "import warnings\n",
    "warnings.filterwarnings(\"ignore\", category=FutureWarning)"
   ]
  },
  {
   "cell_type": "markdown",
   "id": "8525fd34-b087-445c-a786-61fbfc64d733",
   "metadata": {},
   "source": [
    "This code trains and evaluates an XGBoost Classifier, including hyperparameter tuning using Grid Search. The XGBoost model is initialized with a multi-class objective (`multi:softmax`) and the number of classes defined by the training data. Additional parameters such as a random state and evaluation metric (`mlogloss`) are set for consistent results and monitoring model performance.\n",
    "\n",
    "A hyperparameter grid is defined to explore various combinations of learning rate (`learning_rate`), maximum tree depth (`max_depth`), number of estimators (`n_estimators`), subsampling ratio (`subsample`), and column sampling by tree (`colsample_bytree`). Grid Search with 3-fold cross-validation is then performed using `GridSearchCV` to find the best combination of hyperparameters based on accuracy.\n",
    "\n",
    "The best XGBoost model from the Grid Search is used to make predictions on the validation set. The validation accuracy, F1 score, and a detailed classification report are calculated and printed to evaluate the model's performance. Finally, the total time taken for this process is logged to track execution efficiency. This workflow ensures the XGBoost model is fine-tuned for optimal multi-class classification performance."
   ]
  },
  {
   "cell_type": "code",
   "execution_count": 20,
   "id": "b7fa1fda-5bc5-4fc6-a287-5cccde826cb7",
   "metadata": {},
   "outputs": [
    {
     "name": "stderr",
     "output_type": "stream",
     "text": [
      "/home/sajadhyder.r/.local/lib/python3.9/site-packages/xgboost/core.py:265: FutureWarning: Your system has an old version of glibc (< 2.28). We will stop supporting Linux distros with glibc older than 2.28 after **May 31, 2025**. Please upgrade to a recent Linux distro (with glibc 2.28+) to use future versions of XGBoost.\n",
      "Note: You have installed the 'manylinux2014' variant of XGBoost. Certain features such as GPU algorithms or federated learning are not available. To use these features, please upgrade to a recent Linux distro with glibc 2.28+, and install the 'manylinux_2_28' variant.\n",
      "  warnings.warn(\n",
      "/home/sajadhyder.r/.local/lib/python3.9/site-packages/xgboost/core.py:265: FutureWarning: Your system has an old version of glibc (< 2.28). We will stop supporting Linux distros with glibc older than 2.28 after **May 31, 2025**. Please upgrade to a recent Linux distro (with glibc 2.28+) to use future versions of XGBoost.\n",
      "Note: You have installed the 'manylinux2014' variant of XGBoost. Certain features such as GPU algorithms or federated learning are not available. To use these features, please upgrade to a recent Linux distro with glibc 2.28+, and install the 'manylinux_2_28' variant.\n",
      "  warnings.warn(\n",
      "/home/sajadhyder.r/.local/lib/python3.9/site-packages/xgboost/core.py:265: FutureWarning: Your system has an old version of glibc (< 2.28). We will stop supporting Linux distros with glibc older than 2.28 after **May 31, 2025**. Please upgrade to a recent Linux distro (with glibc 2.28+) to use future versions of XGBoost.\n",
      "Note: You have installed the 'manylinux2014' variant of XGBoost. Certain features such as GPU algorithms or federated learning are not available. To use these features, please upgrade to a recent Linux distro with glibc 2.28+, and install the 'manylinux_2_28' variant.\n",
      "  warnings.warn(\n",
      "/home/sajadhyder.r/.local/lib/python3.9/site-packages/xgboost/core.py:265: FutureWarning: Your system has an old version of glibc (< 2.28). We will stop supporting Linux distros with glibc older than 2.28 after **May 31, 2025**. Please upgrade to a recent Linux distro (with glibc 2.28+) to use future versions of XGBoost.\n",
      "Note: You have installed the 'manylinux2014' variant of XGBoost. Certain features such as GPU algorithms or federated learning are not available. To use these features, please upgrade to a recent Linux distro with glibc 2.28+, and install the 'manylinux_2_28' variant.\n",
      "  warnings.warn(\n",
      "/home/sajadhyder.r/.local/lib/python3.9/site-packages/xgboost/core.py:265: FutureWarning: Your system has an old version of glibc (< 2.28). We will stop supporting Linux distros with glibc older than 2.28 after **May 31, 2025**. Please upgrade to a recent Linux distro (with glibc 2.28+) to use future versions of XGBoost.\n",
      "Note: You have installed the 'manylinux2014' variant of XGBoost. Certain features such as GPU algorithms or federated learning are not available. To use these features, please upgrade to a recent Linux distro with glibc 2.28+, and install the 'manylinux_2_28' variant.\n",
      "  warnings.warn(\n",
      "/home/sajadhyder.r/.local/lib/python3.9/site-packages/xgboost/core.py:265: FutureWarning: Your system has an old version of glibc (< 2.28). We will stop supporting Linux distros with glibc older than 2.28 after **May 31, 2025**. Please upgrade to a recent Linux distro (with glibc 2.28+) to use future versions of XGBoost.\n",
      "Note: You have installed the 'manylinux2014' variant of XGBoost. Certain features such as GPU algorithms or federated learning are not available. To use these features, please upgrade to a recent Linux distro with glibc 2.28+, and install the 'manylinux_2_28' variant.\n",
      "  warnings.warn(\n",
      "/home/sajadhyder.r/.local/lib/python3.9/site-packages/xgboost/core.py:265: FutureWarning: Your system has an old version of glibc (< 2.28). We will stop supporting Linux distros with glibc older than 2.28 after **May 31, 2025**. Please upgrade to a recent Linux distro (with glibc 2.28+) to use future versions of XGBoost.\n",
      "Note: You have installed the 'manylinux2014' variant of XGBoost. Certain features such as GPU algorithms or federated learning are not available. To use these features, please upgrade to a recent Linux distro with glibc 2.28+, and install the 'manylinux_2_28' variant.\n",
      "  warnings.warn(\n",
      "/home/sajadhyder.r/.local/lib/python3.9/site-packages/xgboost/core.py:265: FutureWarning: Your system has an old version of glibc (< 2.28). We will stop supporting Linux distros with glibc older than 2.28 after **May 31, 2025**. Please upgrade to a recent Linux distro (with glibc 2.28+) to use future versions of XGBoost.\n",
      "Note: You have installed the 'manylinux2014' variant of XGBoost. Certain features such as GPU algorithms or federated learning are not available. To use these features, please upgrade to a recent Linux distro with glibc 2.28+, and install the 'manylinux_2_28' variant.\n",
      "  warnings.warn(\n",
      "/home/sajadhyder.r/.local/lib/python3.9/site-packages/xgboost/core.py:265: FutureWarning: Your system has an old version of glibc (< 2.28). We will stop supporting Linux distros with glibc older than 2.28 after **May 31, 2025**. Please upgrade to a recent Linux distro (with glibc 2.28+) to use future versions of XGBoost.\n",
      "Note: You have installed the 'manylinux2014' variant of XGBoost. Certain features such as GPU algorithms or federated learning are not available. To use these features, please upgrade to a recent Linux distro with glibc 2.28+, and install the 'manylinux_2_28' variant.\n",
      "  warnings.warn(\n",
      "/home/sajadhyder.r/.local/lib/python3.9/site-packages/xgboost/core.py:265: FutureWarning: Your system has an old version of glibc (< 2.28). We will stop supporting Linux distros with glibc older than 2.28 after **May 31, 2025**. Please upgrade to a recent Linux distro (with glibc 2.28+) to use future versions of XGBoost.\n",
      "Note: You have installed the 'manylinux2014' variant of XGBoost. Certain features such as GPU algorithms or federated learning are not available. To use these features, please upgrade to a recent Linux distro with glibc 2.28+, and install the 'manylinux_2_28' variant.\n",
      "  warnings.warn(\n",
      "/home/sajadhyder.r/.local/lib/python3.9/site-packages/xgboost/core.py:265: FutureWarning: Your system has an old version of glibc (< 2.28). We will stop supporting Linux distros with glibc older than 2.28 after **May 31, 2025**. Please upgrade to a recent Linux distro (with glibc 2.28+) to use future versions of XGBoost.\n",
      "Note: You have installed the 'manylinux2014' variant of XGBoost. Certain features such as GPU algorithms or federated learning are not available. To use these features, please upgrade to a recent Linux distro with glibc 2.28+, and install the 'manylinux_2_28' variant.\n",
      "  warnings.warn(\n",
      "/home/sajadhyder.r/.local/lib/python3.9/site-packages/xgboost/core.py:265: FutureWarning: Your system has an old version of glibc (< 2.28). We will stop supporting Linux distros with glibc older than 2.28 after **May 31, 2025**. Please upgrade to a recent Linux distro (with glibc 2.28+) to use future versions of XGBoost.\n",
      "Note: You have installed the 'manylinux2014' variant of XGBoost. Certain features such as GPU algorithms or federated learning are not available. To use these features, please upgrade to a recent Linux distro with glibc 2.28+, and install the 'manylinux_2_28' variant.\n",
      "  warnings.warn(\n",
      "/home/sajadhyder.r/.local/lib/python3.9/site-packages/xgboost/core.py:265: FutureWarning: Your system has an old version of glibc (< 2.28). We will stop supporting Linux distros with glibc older than 2.28 after **May 31, 2025**. Please upgrade to a recent Linux distro (with glibc 2.28+) to use future versions of XGBoost.\n",
      "Note: You have installed the 'manylinux2014' variant of XGBoost. Certain features such as GPU algorithms or federated learning are not available. To use these features, please upgrade to a recent Linux distro with glibc 2.28+, and install the 'manylinux_2_28' variant.\n",
      "  warnings.warn(\n",
      "/home/sajadhyder.r/.local/lib/python3.9/site-packages/xgboost/core.py:265: FutureWarning: Your system has an old version of glibc (< 2.28). We will stop supporting Linux distros with glibc older than 2.28 after **May 31, 2025**. Please upgrade to a recent Linux distro (with glibc 2.28+) to use future versions of XGBoost.\n",
      "Note: You have installed the 'manylinux2014' variant of XGBoost. Certain features such as GPU algorithms or federated learning are not available. To use these features, please upgrade to a recent Linux distro with glibc 2.28+, and install the 'manylinux_2_28' variant.\n",
      "  warnings.warn(\n",
      "/home/sajadhyder.r/.local/lib/python3.9/site-packages/xgboost/core.py:265: FutureWarning: Your system has an old version of glibc (< 2.28). We will stop supporting Linux distros with glibc older than 2.28 after **May 31, 2025**. Please upgrade to a recent Linux distro (with glibc 2.28+) to use future versions of XGBoost.\n",
      "Note: You have installed the 'manylinux2014' variant of XGBoost. Certain features such as GPU algorithms or federated learning are not available. To use these features, please upgrade to a recent Linux distro with glibc 2.28+, and install the 'manylinux_2_28' variant.\n",
      "  warnings.warn(\n",
      "/home/sajadhyder.r/.local/lib/python3.9/site-packages/xgboost/core.py:265: FutureWarning: Your system has an old version of glibc (< 2.28). We will stop supporting Linux distros with glibc older than 2.28 after **May 31, 2025**. Please upgrade to a recent Linux distro (with glibc 2.28+) to use future versions of XGBoost.\n",
      "Note: You have installed the 'manylinux2014' variant of XGBoost. Certain features such as GPU algorithms or federated learning are not available. To use these features, please upgrade to a recent Linux distro with glibc 2.28+, and install the 'manylinux_2_28' variant.\n",
      "  warnings.warn(\n",
      "/home/sajadhyder.r/.local/lib/python3.9/site-packages/xgboost/core.py:265: FutureWarning: Your system has an old version of glibc (< 2.28). We will stop supporting Linux distros with glibc older than 2.28 after **May 31, 2025**. Please upgrade to a recent Linux distro (with glibc 2.28+) to use future versions of XGBoost.\n",
      "Note: You have installed the 'manylinux2014' variant of XGBoost. Certain features such as GPU algorithms or federated learning are not available. To use these features, please upgrade to a recent Linux distro with glibc 2.28+, and install the 'manylinux_2_28' variant.\n",
      "  warnings.warn(\n",
      "/home/sajadhyder.r/.local/lib/python3.9/site-packages/xgboost/core.py:265: FutureWarning: Your system has an old version of glibc (< 2.28). We will stop supporting Linux distros with glibc older than 2.28 after **May 31, 2025**. Please upgrade to a recent Linux distro (with glibc 2.28+) to use future versions of XGBoost.\n",
      "Note: You have installed the 'manylinux2014' variant of XGBoost. Certain features such as GPU algorithms or federated learning are not available. To use these features, please upgrade to a recent Linux distro with glibc 2.28+, and install the 'manylinux_2_28' variant.\n",
      "  warnings.warn(\n",
      "/home/sajadhyder.r/.local/lib/python3.9/site-packages/xgboost/core.py:265: FutureWarning: Your system has an old version of glibc (< 2.28). We will stop supporting Linux distros with glibc older than 2.28 after **May 31, 2025**. Please upgrade to a recent Linux distro (with glibc 2.28+) to use future versions of XGBoost.\n",
      "Note: You have installed the 'manylinux2014' variant of XGBoost. Certain features such as GPU algorithms or federated learning are not available. To use these features, please upgrade to a recent Linux distro with glibc 2.28+, and install the 'manylinux_2_28' variant.\n",
      "  warnings.warn(\n",
      "/home/sajadhyder.r/.local/lib/python3.9/site-packages/xgboost/core.py:265: FutureWarning: Your system has an old version of glibc (< 2.28). We will stop supporting Linux distros with glibc older than 2.28 after **May 31, 2025**. Please upgrade to a recent Linux distro (with glibc 2.28+) to use future versions of XGBoost.\n",
      "Note: You have installed the 'manylinux2014' variant of XGBoost. Certain features such as GPU algorithms or federated learning are not available. To use these features, please upgrade to a recent Linux distro with glibc 2.28+, and install the 'manylinux_2_28' variant.\n",
      "  warnings.warn(\n",
      "/home/sajadhyder.r/.local/lib/python3.9/site-packages/xgboost/core.py:265: FutureWarning: Your system has an old version of glibc (< 2.28). We will stop supporting Linux distros with glibc older than 2.28 after **May 31, 2025**. Please upgrade to a recent Linux distro (with glibc 2.28+) to use future versions of XGBoost.\n",
      "Note: You have installed the 'manylinux2014' variant of XGBoost. Certain features such as GPU algorithms or federated learning are not available. To use these features, please upgrade to a recent Linux distro with glibc 2.28+, and install the 'manylinux_2_28' variant.\n",
      "  warnings.warn(\n",
      "/home/sajadhyder.r/.local/lib/python3.9/site-packages/xgboost/core.py:265: FutureWarning: Your system has an old version of glibc (< 2.28). We will stop supporting Linux distros with glibc older than 2.28 after **May 31, 2025**. Please upgrade to a recent Linux distro (with glibc 2.28+) to use future versions of XGBoost.\n",
      "Note: You have installed the 'manylinux2014' variant of XGBoost. Certain features such as GPU algorithms or federated learning are not available. To use these features, please upgrade to a recent Linux distro with glibc 2.28+, and install the 'manylinux_2_28' variant.\n",
      "  warnings.warn(\n",
      "/home/sajadhyder.r/.local/lib/python3.9/site-packages/xgboost/core.py:265: FutureWarning: Your system has an old version of glibc (< 2.28). We will stop supporting Linux distros with glibc older than 2.28 after **May 31, 2025**. Please upgrade to a recent Linux distro (with glibc 2.28+) to use future versions of XGBoost.\n",
      "Note: You have installed the 'manylinux2014' variant of XGBoost. Certain features such as GPU algorithms or federated learning are not available. To use these features, please upgrade to a recent Linux distro with glibc 2.28+, and install the 'manylinux_2_28' variant.\n",
      "  warnings.warn(\n",
      "/home/sajadhyder.r/.local/lib/python3.9/site-packages/xgboost/core.py:265: FutureWarning: Your system has an old version of glibc (< 2.28). We will stop supporting Linux distros with glibc older than 2.28 after **May 31, 2025**. Please upgrade to a recent Linux distro (with glibc 2.28+) to use future versions of XGBoost.\n",
      "Note: You have installed the 'manylinux2014' variant of XGBoost. Certain features such as GPU algorithms or federated learning are not available. To use these features, please upgrade to a recent Linux distro with glibc 2.28+, and install the 'manylinux_2_28' variant.\n",
      "  warnings.warn(\n",
      "/home/sajadhyder.r/.local/lib/python3.9/site-packages/xgboost/core.py:265: FutureWarning: Your system has an old version of glibc (< 2.28). We will stop supporting Linux distros with glibc older than 2.28 after **May 31, 2025**. Please upgrade to a recent Linux distro (with glibc 2.28+) to use future versions of XGBoost.\n",
      "Note: You have installed the 'manylinux2014' variant of XGBoost. Certain features such as GPU algorithms or federated learning are not available. To use these features, please upgrade to a recent Linux distro with glibc 2.28+, and install the 'manylinux_2_28' variant.\n",
      "  warnings.warn(\n",
      "/home/sajadhyder.r/.local/lib/python3.9/site-packages/xgboost/core.py:265: FutureWarning: Your system has an old version of glibc (< 2.28). We will stop supporting Linux distros with glibc older than 2.28 after **May 31, 2025**. Please upgrade to a recent Linux distro (with glibc 2.28+) to use future versions of XGBoost.\n",
      "Note: You have installed the 'manylinux2014' variant of XGBoost. Certain features such as GPU algorithms or federated learning are not available. To use these features, please upgrade to a recent Linux distro with glibc 2.28+, and install the 'manylinux_2_28' variant.\n",
      "  warnings.warn(\n",
      "/home/sajadhyder.r/.local/lib/python3.9/site-packages/xgboost/core.py:265: FutureWarning: Your system has an old version of glibc (< 2.28). We will stop supporting Linux distros with glibc older than 2.28 after **May 31, 2025**. Please upgrade to a recent Linux distro (with glibc 2.28+) to use future versions of XGBoost.\n",
      "Note: You have installed the 'manylinux2014' variant of XGBoost. Certain features such as GPU algorithms or federated learning are not available. To use these features, please upgrade to a recent Linux distro with glibc 2.28+, and install the 'manylinux_2_28' variant.\n",
      "  warnings.warn(\n",
      "/home/sajadhyder.r/.local/lib/python3.9/site-packages/xgboost/core.py:265: FutureWarning: Your system has an old version of glibc (< 2.28). We will stop supporting Linux distros with glibc older than 2.28 after **May 31, 2025**. Please upgrade to a recent Linux distro (with glibc 2.28+) to use future versions of XGBoost.\n",
      "Note: You have installed the 'manylinux2014' variant of XGBoost. Certain features such as GPU algorithms or federated learning are not available. To use these features, please upgrade to a recent Linux distro with glibc 2.28+, and install the 'manylinux_2_28' variant.\n",
      "  warnings.warn(\n",
      "/home/sajadhyder.r/.local/lib/python3.9/site-packages/xgboost/core.py:265: FutureWarning: Your system has an old version of glibc (< 2.28). We will stop supporting Linux distros with glibc older than 2.28 after **May 31, 2025**. Please upgrade to a recent Linux distro (with glibc 2.28+) to use future versions of XGBoost.\n",
      "Note: You have installed the 'manylinux2014' variant of XGBoost. Certain features such as GPU algorithms or federated learning are not available. To use these features, please upgrade to a recent Linux distro with glibc 2.28+, and install the 'manylinux_2_28' variant.\n",
      "  warnings.warn(\n",
      "/home/sajadhyder.r/.local/lib/python3.9/site-packages/xgboost/core.py:265: FutureWarning: Your system has an old version of glibc (< 2.28). We will stop supporting Linux distros with glibc older than 2.28 after **May 31, 2025**. Please upgrade to a recent Linux distro (with glibc 2.28+) to use future versions of XGBoost.\n",
      "Note: You have installed the 'manylinux2014' variant of XGBoost. Certain features such as GPU algorithms or federated learning are not available. To use these features, please upgrade to a recent Linux distro with glibc 2.28+, and install the 'manylinux_2_28' variant.\n",
      "  warnings.warn(\n",
      "/home/sajadhyder.r/.local/lib/python3.9/site-packages/xgboost/core.py:265: FutureWarning: Your system has an old version of glibc (< 2.28). We will stop supporting Linux distros with glibc older than 2.28 after **May 31, 2025**. Please upgrade to a recent Linux distro (with glibc 2.28+) to use future versions of XGBoost.\n",
      "Note: You have installed the 'manylinux2014' variant of XGBoost. Certain features such as GPU algorithms or federated learning are not available. To use these features, please upgrade to a recent Linux distro with glibc 2.28+, and install the 'manylinux_2_28' variant.\n",
      "  warnings.warn(\n",
      "/home/sajadhyder.r/.local/lib/python3.9/site-packages/xgboost/core.py:265: FutureWarning: Your system has an old version of glibc (< 2.28). We will stop supporting Linux distros with glibc older than 2.28 after **May 31, 2025**. Please upgrade to a recent Linux distro (with glibc 2.28+) to use future versions of XGBoost.\n",
      "Note: You have installed the 'manylinux2014' variant of XGBoost. Certain features such as GPU algorithms or federated learning are not available. To use these features, please upgrade to a recent Linux distro with glibc 2.28+, and install the 'manylinux_2_28' variant.\n",
      "  warnings.warn(\n",
      "/home/sajadhyder.r/.local/lib/python3.9/site-packages/xgboost/core.py:265: FutureWarning: Your system has an old version of glibc (< 2.28). We will stop supporting Linux distros with glibc older than 2.28 after **May 31, 2025**. Please upgrade to a recent Linux distro (with glibc 2.28+) to use future versions of XGBoost.\n",
      "Note: You have installed the 'manylinux2014' variant of XGBoost. Certain features such as GPU algorithms or federated learning are not available. To use these features, please upgrade to a recent Linux distro with glibc 2.28+, and install the 'manylinux_2_28' variant.\n",
      "  warnings.warn(\n",
      "/home/sajadhyder.r/.local/lib/python3.9/site-packages/xgboost/core.py:265: FutureWarning: Your system has an old version of glibc (< 2.28). We will stop supporting Linux distros with glibc older than 2.28 after **May 31, 2025**. Please upgrade to a recent Linux distro (with glibc 2.28+) to use future versions of XGBoost.\n",
      "Note: You have installed the 'manylinux2014' variant of XGBoost. Certain features such as GPU algorithms or federated learning are not available. To use these features, please upgrade to a recent Linux distro with glibc 2.28+, and install the 'manylinux_2_28' variant.\n",
      "  warnings.warn(\n",
      "/home/sajadhyder.r/.local/lib/python3.9/site-packages/xgboost/core.py:265: FutureWarning: Your system has an old version of glibc (< 2.28). We will stop supporting Linux distros with glibc older than 2.28 after **May 31, 2025**. Please upgrade to a recent Linux distro (with glibc 2.28+) to use future versions of XGBoost.\n",
      "Note: You have installed the 'manylinux2014' variant of XGBoost. Certain features such as GPU algorithms or federated learning are not available. To use these features, please upgrade to a recent Linux distro with glibc 2.28+, and install the 'manylinux_2_28' variant.\n",
      "  warnings.warn(\n",
      "/home/sajadhyder.r/.local/lib/python3.9/site-packages/xgboost/core.py:265: FutureWarning: Your system has an old version of glibc (< 2.28). We will stop supporting Linux distros with glibc older than 2.28 after **May 31, 2025**. Please upgrade to a recent Linux distro (with glibc 2.28+) to use future versions of XGBoost.\n",
      "Note: You have installed the 'manylinux2014' variant of XGBoost. Certain features such as GPU algorithms or federated learning are not available. To use these features, please upgrade to a recent Linux distro with glibc 2.28+, and install the 'manylinux_2_28' variant.\n",
      "  warnings.warn(\n",
      "/home/sajadhyder.r/.local/lib/python3.9/site-packages/xgboost/core.py:265: FutureWarning: Your system has an old version of glibc (< 2.28). We will stop supporting Linux distros with glibc older than 2.28 after **May 31, 2025**. Please upgrade to a recent Linux distro (with glibc 2.28+) to use future versions of XGBoost.\n",
      "Note: You have installed the 'manylinux2014' variant of XGBoost. Certain features such as GPU algorithms or federated learning are not available. To use these features, please upgrade to a recent Linux distro with glibc 2.28+, and install the 'manylinux_2_28' variant.\n",
      "  warnings.warn(\n",
      "/home/sajadhyder.r/.local/lib/python3.9/site-packages/xgboost/core.py:265: FutureWarning: Your system has an old version of glibc (< 2.28). We will stop supporting Linux distros with glibc older than 2.28 after **May 31, 2025**. Please upgrade to a recent Linux distro (with glibc 2.28+) to use future versions of XGBoost.\n",
      "Note: You have installed the 'manylinux2014' variant of XGBoost. Certain features such as GPU algorithms or federated learning are not available. To use these features, please upgrade to a recent Linux distro with glibc 2.28+, and install the 'manylinux_2_28' variant.\n",
      "  warnings.warn(\n",
      "/home/sajadhyder.r/.local/lib/python3.9/site-packages/xgboost/core.py:265: FutureWarning: Your system has an old version of glibc (< 2.28). We will stop supporting Linux distros with glibc older than 2.28 after **May 31, 2025**. Please upgrade to a recent Linux distro (with glibc 2.28+) to use future versions of XGBoost.\n",
      "Note: You have installed the 'manylinux2014' variant of XGBoost. Certain features such as GPU algorithms or federated learning are not available. To use these features, please upgrade to a recent Linux distro with glibc 2.28+, and install the 'manylinux_2_28' variant.\n",
      "  warnings.warn(\n",
      "/home/sajadhyder.r/.local/lib/python3.9/site-packages/xgboost/core.py:265: FutureWarning: Your system has an old version of glibc (< 2.28). We will stop supporting Linux distros with glibc older than 2.28 after **May 31, 2025**. Please upgrade to a recent Linux distro (with glibc 2.28+) to use future versions of XGBoost.\n",
      "Note: You have installed the 'manylinux2014' variant of XGBoost. Certain features such as GPU algorithms or federated learning are not available. To use these features, please upgrade to a recent Linux distro with glibc 2.28+, and install the 'manylinux_2_28' variant.\n",
      "  warnings.warn(\n",
      "/home/sajadhyder.r/.local/lib/python3.9/site-packages/xgboost/core.py:265: FutureWarning: Your system has an old version of glibc (< 2.28). We will stop supporting Linux distros with glibc older than 2.28 after **May 31, 2025**. Please upgrade to a recent Linux distro (with glibc 2.28+) to use future versions of XGBoost.\n",
      "Note: You have installed the 'manylinux2014' variant of XGBoost. Certain features such as GPU algorithms or federated learning are not available. To use these features, please upgrade to a recent Linux distro with glibc 2.28+, and install the 'manylinux_2_28' variant.\n",
      "  warnings.warn(\n",
      "/home/sajadhyder.r/.local/lib/python3.9/site-packages/xgboost/core.py:265: FutureWarning: Your system has an old version of glibc (< 2.28). We will stop supporting Linux distros with glibc older than 2.28 after **May 31, 2025**. Please upgrade to a recent Linux distro (with glibc 2.28+) to use future versions of XGBoost.\n",
      "Note: You have installed the 'manylinux2014' variant of XGBoost. Certain features such as GPU algorithms or federated learning are not available. To use these features, please upgrade to a recent Linux distro with glibc 2.28+, and install the 'manylinux_2_28' variant.\n",
      "  warnings.warn(\n",
      "/home/sajadhyder.r/.local/lib/python3.9/site-packages/xgboost/core.py:265: FutureWarning: Your system has an old version of glibc (< 2.28). We will stop supporting Linux distros with glibc older than 2.28 after **May 31, 2025**. Please upgrade to a recent Linux distro (with glibc 2.28+) to use future versions of XGBoost.\n",
      "Note: You have installed the 'manylinux2014' variant of XGBoost. Certain features such as GPU algorithms or federated learning are not available. To use these features, please upgrade to a recent Linux distro with glibc 2.28+, and install the 'manylinux_2_28' variant.\n",
      "  warnings.warn(\n",
      "/home/sajadhyder.r/.local/lib/python3.9/site-packages/xgboost/core.py:265: FutureWarning: Your system has an old version of glibc (< 2.28). We will stop supporting Linux distros with glibc older than 2.28 after **May 31, 2025**. Please upgrade to a recent Linux distro (with glibc 2.28+) to use future versions of XGBoost.\n",
      "Note: You have installed the 'manylinux2014' variant of XGBoost. Certain features such as GPU algorithms or federated learning are not available. To use these features, please upgrade to a recent Linux distro with glibc 2.28+, and install the 'manylinux_2_28' variant.\n",
      "  warnings.warn(\n",
      "/home/sajadhyder.r/.local/lib/python3.9/site-packages/xgboost/core.py:265: FutureWarning: Your system has an old version of glibc (< 2.28). We will stop supporting Linux distros with glibc older than 2.28 after **May 31, 2025**. Please upgrade to a recent Linux distro (with glibc 2.28+) to use future versions of XGBoost.\n",
      "Note: You have installed the 'manylinux2014' variant of XGBoost. Certain features such as GPU algorithms or federated learning are not available. To use these features, please upgrade to a recent Linux distro with glibc 2.28+, and install the 'manylinux_2_28' variant.\n",
      "  warnings.warn(\n",
      "/home/sajadhyder.r/.local/lib/python3.9/site-packages/xgboost/core.py:265: FutureWarning: Your system has an old version of glibc (< 2.28). We will stop supporting Linux distros with glibc older than 2.28 after **May 31, 2025**. Please upgrade to a recent Linux distro (with glibc 2.28+) to use future versions of XGBoost.\n",
      "Note: You have installed the 'manylinux2014' variant of XGBoost. Certain features such as GPU algorithms or federated learning are not available. To use these features, please upgrade to a recent Linux distro with glibc 2.28+, and install the 'manylinux_2_28' variant.\n",
      "  warnings.warn(\n",
      "/home/sajadhyder.r/.local/lib/python3.9/site-packages/xgboost/core.py:265: FutureWarning: Your system has an old version of glibc (< 2.28). We will stop supporting Linux distros with glibc older than 2.28 after **May 31, 2025**. Please upgrade to a recent Linux distro (with glibc 2.28+) to use future versions of XGBoost.\n",
      "Note: You have installed the 'manylinux2014' variant of XGBoost. Certain features such as GPU algorithms or federated learning are not available. To use these features, please upgrade to a recent Linux distro with glibc 2.28+, and install the 'manylinux_2_28' variant.\n",
      "  warnings.warn(\n",
      "/home/sajadhyder.r/.local/lib/python3.9/site-packages/xgboost/core.py:265: FutureWarning: Your system has an old version of glibc (< 2.28). We will stop supporting Linux distros with glibc older than 2.28 after **May 31, 2025**. Please upgrade to a recent Linux distro (with glibc 2.28+) to use future versions of XGBoost.\n",
      "Note: You have installed the 'manylinux2014' variant of XGBoost. Certain features such as GPU algorithms or federated learning are not available. To use these features, please upgrade to a recent Linux distro with glibc 2.28+, and install the 'manylinux_2_28' variant.\n",
      "  warnings.warn(\n",
      "/home/sajadhyder.r/.local/lib/python3.9/site-packages/xgboost/core.py:265: FutureWarning: Your system has an old version of glibc (< 2.28). We will stop supporting Linux distros with glibc older than 2.28 after **May 31, 2025**. Please upgrade to a recent Linux distro (with glibc 2.28+) to use future versions of XGBoost.\n",
      "Note: You have installed the 'manylinux2014' variant of XGBoost. Certain features such as GPU algorithms or federated learning are not available. To use these features, please upgrade to a recent Linux distro with glibc 2.28+, and install the 'manylinux_2_28' variant.\n",
      "  warnings.warn(\n",
      "/home/sajadhyder.r/.local/lib/python3.9/site-packages/xgboost/core.py:265: FutureWarning: Your system has an old version of glibc (< 2.28). We will stop supporting Linux distros with glibc older than 2.28 after **May 31, 2025**. Please upgrade to a recent Linux distro (with glibc 2.28+) to use future versions of XGBoost.\n",
      "Note: You have installed the 'manylinux2014' variant of XGBoost. Certain features such as GPU algorithms or federated learning are not available. To use these features, please upgrade to a recent Linux distro with glibc 2.28+, and install the 'manylinux_2_28' variant.\n",
      "  warnings.warn(\n",
      "/home/sajadhyder.r/.local/lib/python3.9/site-packages/xgboost/core.py:265: FutureWarning: Your system has an old version of glibc (< 2.28). We will stop supporting Linux distros with glibc older than 2.28 after **May 31, 2025**. Please upgrade to a recent Linux distro (with glibc 2.28+) to use future versions of XGBoost.\n",
      "Note: You have installed the 'manylinux2014' variant of XGBoost. Certain features such as GPU algorithms or federated learning are not available. To use these features, please upgrade to a recent Linux distro with glibc 2.28+, and install the 'manylinux_2_28' variant.\n",
      "  warnings.warn(\n",
      "/home/sajadhyder.r/.local/lib/python3.9/site-packages/xgboost/core.py:265: FutureWarning: Your system has an old version of glibc (< 2.28). We will stop supporting Linux distros with glibc older than 2.28 after **May 31, 2025**. Please upgrade to a recent Linux distro (with glibc 2.28+) to use future versions of XGBoost.\n",
      "Note: You have installed the 'manylinux2014' variant of XGBoost. Certain features such as GPU algorithms or federated learning are not available. To use these features, please upgrade to a recent Linux distro with glibc 2.28+, and install the 'manylinux_2_28' variant.\n",
      "  warnings.warn(\n",
      "/home/sajadhyder.r/.local/lib/python3.9/site-packages/xgboost/core.py:265: FutureWarning: Your system has an old version of glibc (< 2.28). We will stop supporting Linux distros with glibc older than 2.28 after **May 31, 2025**. Please upgrade to a recent Linux distro (with glibc 2.28+) to use future versions of XGBoost.\n",
      "Note: You have installed the 'manylinux2014' variant of XGBoost. Certain features such as GPU algorithms or federated learning are not available. To use these features, please upgrade to a recent Linux distro with glibc 2.28+, and install the 'manylinux_2_28' variant.\n",
      "  warnings.warn(\n",
      "/home/sajadhyder.r/.local/lib/python3.9/site-packages/xgboost/core.py:265: FutureWarning: Your system has an old version of glibc (< 2.28). We will stop supporting Linux distros with glibc older than 2.28 after **May 31, 2025**. Please upgrade to a recent Linux distro (with glibc 2.28+) to use future versions of XGBoost.\n",
      "Note: You have installed the 'manylinux2014' variant of XGBoost. Certain features such as GPU algorithms or federated learning are not available. To use these features, please upgrade to a recent Linux distro with glibc 2.28+, and install the 'manylinux_2_28' variant.\n",
      "  warnings.warn(\n",
      "/home/sajadhyder.r/.local/lib/python3.9/site-packages/xgboost/core.py:265: FutureWarning: Your system has an old version of glibc (< 2.28). We will stop supporting Linux distros with glibc older than 2.28 after **May 31, 2025**. Please upgrade to a recent Linux distro (with glibc 2.28+) to use future versions of XGBoost.\n",
      "Note: You have installed the 'manylinux2014' variant of XGBoost. Certain features such as GPU algorithms or federated learning are not available. To use these features, please upgrade to a recent Linux distro with glibc 2.28+, and install the 'manylinux_2_28' variant.\n",
      "  warnings.warn(\n",
      "/home/sajadhyder.r/.local/lib/python3.9/site-packages/xgboost/core.py:265: FutureWarning: Your system has an old version of glibc (< 2.28). We will stop supporting Linux distros with glibc older than 2.28 after **May 31, 2025**. Please upgrade to a recent Linux distro (with glibc 2.28+) to use future versions of XGBoost.\n",
      "Note: You have installed the 'manylinux2014' variant of XGBoost. Certain features such as GPU algorithms or federated learning are not available. To use these features, please upgrade to a recent Linux distro with glibc 2.28+, and install the 'manylinux_2_28' variant.\n",
      "  warnings.warn(\n",
      "/home/sajadhyder.r/.local/lib/python3.9/site-packages/xgboost/core.py:265: FutureWarning: Your system has an old version of glibc (< 2.28). We will stop supporting Linux distros with glibc older than 2.28 after **May 31, 2025**. Please upgrade to a recent Linux distro (with glibc 2.28+) to use future versions of XGBoost.\n",
      "Note: You have installed the 'manylinux2014' variant of XGBoost. Certain features such as GPU algorithms or federated learning are not available. To use these features, please upgrade to a recent Linux distro with glibc 2.28+, and install the 'manylinux_2_28' variant.\n",
      "  warnings.warn(\n",
      "/home/sajadhyder.r/.local/lib/python3.9/site-packages/xgboost/core.py:265: FutureWarning: Your system has an old version of glibc (< 2.28). We will stop supporting Linux distros with glibc older than 2.28 after **May 31, 2025**. Please upgrade to a recent Linux distro (with glibc 2.28+) to use future versions of XGBoost.\n",
      "Note: You have installed the 'manylinux2014' variant of XGBoost. Certain features such as GPU algorithms or federated learning are not available. To use these features, please upgrade to a recent Linux distro with glibc 2.28+, and install the 'manylinux_2_28' variant.\n",
      "  warnings.warn(\n",
      "/home/sajadhyder.r/.local/lib/python3.9/site-packages/xgboost/core.py:265: FutureWarning: Your system has an old version of glibc (< 2.28). We will stop supporting Linux distros with glibc older than 2.28 after **May 31, 2025**. Please upgrade to a recent Linux distro (with glibc 2.28+) to use future versions of XGBoost.\n",
      "Note: You have installed the 'manylinux2014' variant of XGBoost. Certain features such as GPU algorithms or federated learning are not available. To use these features, please upgrade to a recent Linux distro with glibc 2.28+, and install the 'manylinux_2_28' variant.\n",
      "  warnings.warn(\n",
      "/home/sajadhyder.r/.local/lib/python3.9/site-packages/xgboost/core.py:265: FutureWarning: Your system has an old version of glibc (< 2.28). We will stop supporting Linux distros with glibc older than 2.28 after **May 31, 2025**. Please upgrade to a recent Linux distro (with glibc 2.28+) to use future versions of XGBoost.\n",
      "Note: You have installed the 'manylinux2014' variant of XGBoost. Certain features such as GPU algorithms or federated learning are not available. To use these features, please upgrade to a recent Linux distro with glibc 2.28+, and install the 'manylinux_2_28' variant.\n",
      "  warnings.warn(\n",
      "/home/sajadhyder.r/.local/lib/python3.9/site-packages/xgboost/core.py:265: FutureWarning: Your system has an old version of glibc (< 2.28). We will stop supporting Linux distros with glibc older than 2.28 after **May 31, 2025**. Please upgrade to a recent Linux distro (with glibc 2.28+) to use future versions of XGBoost.\n",
      "Note: You have installed the 'manylinux2014' variant of XGBoost. Certain features such as GPU algorithms or federated learning are not available. To use these features, please upgrade to a recent Linux distro with glibc 2.28+, and install the 'manylinux_2_28' variant.\n",
      "  warnings.warn(\n",
      "/home/sajadhyder.r/.local/lib/python3.9/site-packages/xgboost/core.py:265: FutureWarning: Your system has an old version of glibc (< 2.28). We will stop supporting Linux distros with glibc older than 2.28 after **May 31, 2025**. Please upgrade to a recent Linux distro (with glibc 2.28+) to use future versions of XGBoost.\n",
      "Note: You have installed the 'manylinux2014' variant of XGBoost. Certain features such as GPU algorithms or federated learning are not available. To use these features, please upgrade to a recent Linux distro with glibc 2.28+, and install the 'manylinux_2_28' variant.\n",
      "  warnings.warn(\n",
      "/home/sajadhyder.r/.local/lib/python3.9/site-packages/xgboost/core.py:265: FutureWarning: Your system has an old version of glibc (< 2.28). We will stop supporting Linux distros with glibc older than 2.28 after **May 31, 2025**. Please upgrade to a recent Linux distro (with glibc 2.28+) to use future versions of XGBoost.\n",
      "Note: You have installed the 'manylinux2014' variant of XGBoost. Certain features such as GPU algorithms or federated learning are not available. To use these features, please upgrade to a recent Linux distro with glibc 2.28+, and install the 'manylinux_2_28' variant.\n",
      "  warnings.warn(\n",
      "/home/sajadhyder.r/.local/lib/python3.9/site-packages/xgboost/core.py:265: FutureWarning: Your system has an old version of glibc (< 2.28). We will stop supporting Linux distros with glibc older than 2.28 after **May 31, 2025**. Please upgrade to a recent Linux distro (with glibc 2.28+) to use future versions of XGBoost.\n",
      "Note: You have installed the 'manylinux2014' variant of XGBoost. Certain features such as GPU algorithms or federated learning are not available. To use these features, please upgrade to a recent Linux distro with glibc 2.28+, and install the 'manylinux_2_28' variant.\n",
      "  warnings.warn(\n",
      "/home/sajadhyder.r/.local/lib/python3.9/site-packages/xgboost/core.py:265: FutureWarning: Your system has an old version of glibc (< 2.28). We will stop supporting Linux distros with glibc older than 2.28 after **May 31, 2025**. Please upgrade to a recent Linux distro (with glibc 2.28+) to use future versions of XGBoost.\n",
      "Note: You have installed the 'manylinux2014' variant of XGBoost. Certain features such as GPU algorithms or federated learning are not available. To use these features, please upgrade to a recent Linux distro with glibc 2.28+, and install the 'manylinux_2_28' variant.\n",
      "  warnings.warn(\n",
      "/home/sajadhyder.r/.local/lib/python3.9/site-packages/xgboost/core.py:265: FutureWarning: Your system has an old version of glibc (< 2.28). We will stop supporting Linux distros with glibc older than 2.28 after **May 31, 2025**. Please upgrade to a recent Linux distro (with glibc 2.28+) to use future versions of XGBoost.\n",
      "Note: You have installed the 'manylinux2014' variant of XGBoost. Certain features such as GPU algorithms or federated learning are not available. To use these features, please upgrade to a recent Linux distro with glibc 2.28+, and install the 'manylinux_2_28' variant.\n",
      "  warnings.warn(\n",
      "/home/sajadhyder.r/.local/lib/python3.9/site-packages/xgboost/core.py:265: FutureWarning: Your system has an old version of glibc (< 2.28). We will stop supporting Linux distros with glibc older than 2.28 after **May 31, 2025**. Please upgrade to a recent Linux distro (with glibc 2.28+) to use future versions of XGBoost.\n",
      "Note: You have installed the 'manylinux2014' variant of XGBoost. Certain features such as GPU algorithms or federated learning are not available. To use these features, please upgrade to a recent Linux distro with glibc 2.28+, and install the 'manylinux_2_28' variant.\n",
      "  warnings.warn(\n",
      "/home/sajadhyder.r/.local/lib/python3.9/site-packages/xgboost/core.py:265: FutureWarning: Your system has an old version of glibc (< 2.28). We will stop supporting Linux distros with glibc older than 2.28 after **May 31, 2025**. Please upgrade to a recent Linux distro (with glibc 2.28+) to use future versions of XGBoost.\n",
      "Note: You have installed the 'manylinux2014' variant of XGBoost. Certain features such as GPU algorithms or federated learning are not available. To use these features, please upgrade to a recent Linux distro with glibc 2.28+, and install the 'manylinux_2_28' variant.\n",
      "  warnings.warn(\n",
      "/home/sajadhyder.r/.local/lib/python3.9/site-packages/xgboost/core.py:265: FutureWarning: Your system has an old version of glibc (< 2.28). We will stop supporting Linux distros with glibc older than 2.28 after **May 31, 2025**. Please upgrade to a recent Linux distro (with glibc 2.28+) to use future versions of XGBoost.\n",
      "Note: You have installed the 'manylinux2014' variant of XGBoost. Certain features such as GPU algorithms or federated learning are not available. To use these features, please upgrade to a recent Linux distro with glibc 2.28+, and install the 'manylinux_2_28' variant.\n",
      "  warnings.warn(\n",
      "/home/sajadhyder.r/.local/lib/python3.9/site-packages/xgboost/core.py:265: FutureWarning: Your system has an old version of glibc (< 2.28). We will stop supporting Linux distros with glibc older than 2.28 after **May 31, 2025**. Please upgrade to a recent Linux distro (with glibc 2.28+) to use future versions of XGBoost.\n",
      "Note: You have installed the 'manylinux2014' variant of XGBoost. Certain features such as GPU algorithms or federated learning are not available. To use these features, please upgrade to a recent Linux distro with glibc 2.28+, and install the 'manylinux_2_28' variant.\n",
      "  warnings.warn(\n",
      "/home/sajadhyder.r/.local/lib/python3.9/site-packages/joblib/externals/loky/process_executor.py:752: UserWarning: A worker stopped while some jobs were given to the executor. This can be caused by a too short worker timeout or by a memory leak.\n",
      "  warnings.warn(\n",
      "/home/sajadhyder.r/.local/lib/python3.9/site-packages/xgboost/core.py:265: FutureWarning: Your system has an old version of glibc (< 2.28). We will stop supporting Linux distros with glibc older than 2.28 after **May 31, 2025**. Please upgrade to a recent Linux distro (with glibc 2.28+) to use future versions of XGBoost.\n",
      "Note: You have installed the 'manylinux2014' variant of XGBoost. Certain features such as GPU algorithms or federated learning are not available. To use these features, please upgrade to a recent Linux distro with glibc 2.28+, and install the 'manylinux_2_28' variant.\n",
      "  warnings.warn(\n",
      "2024-12-12 00:30:37 - INFO - Time taken to process the block: 0:03:58.343203\n"
     ]
    },
    {
     "name": "stdout",
     "output_type": "stream",
     "text": [
      "XGBoost Validation Accuracy: 0.9778885412800254\n",
      "XGBoost F1 Score: 0.9851764021824405\n",
      "Classification Report:\n",
      "               precision    recall  f1-score   support\n",
      "\n",
      "           0       1.00      0.98      0.99     74164\n",
      "           1       0.70      1.00      0.82      1206\n",
      "           2       0.05      0.92      0.10        66\n",
      "\n",
      "    accuracy                           0.98     75436\n",
      "   macro avg       0.58      0.97      0.63     75436\n",
      "weighted avg       0.99      0.98      0.99     75436\n",
      "\n"
     ]
    }
   ],
   "source": [
    "import xgboost as xgb\n",
    "start_time = datetime.datetime.now()\n",
    "\n",
    "# Step 1: Initialize the model\n",
    "xgb_model = xgb.XGBClassifier(objective='multi:softmax', num_class=len(set(y_train_balanced)), random_state=42, eval_metric='mlogloss')\n",
    "\n",
    "# Step 2: Define hyperparameter grid\n",
    "param_grid = {\n",
    "    'learning_rate': [0.01, 0.1, 0.2],\n",
    "    'max_depth': [3, 5, 7],\n",
    "    'n_estimators': [100, 200, 500],\n",
    "    'subsample': [0.8, 1.0],\n",
    "    'colsample_bytree': [0.8, 1.0]\n",
    "}\n",
    "\n",
    "# Step 3: Perform Grid Search for hyperparameter tuning\n",
    "grid_search = GridSearchCV(estimator=xgb_model, param_grid=param_grid, cv=3, scoring='accuracy', n_jobs=-1)\n",
    "grid_search.fit(X_train_balanced, y_train_balanced)\n",
    "\n",
    "# Step 4: Evaluate the model\n",
    "best_xgb_model = grid_search.best_estimator_\n",
    "y_val_pred = best_xgb_model.predict(X_val)\n",
    "\n",
    "print(\"XGBoost Validation Accuracy:\", accuracy_score(y_val, y_val_pred))\n",
    "print(\"XGBoost F1 Score:\", f1_score(y_val, y_val_pred, average='weighted'))\n",
    "print(\"Classification Report:\\n\", classification_report(y_val, y_val_pred))\n",
    "\n",
    "stop_time = datetime.datetime.now()\n",
    "logger.info(f\"Time taken to process the block: {stop_time - start_time}\")"
   ]
  },
  {
   "cell_type": "markdown",
   "id": "02f9f117-6ab4-4382-8db8-4d51be8c179c",
   "metadata": {},
   "source": [
    "### Summary:\n",
    "The validation results for the XGBoost model show excellent performance, with an accuracy of 97.79% and an F1 score of 98.52%. The model performs exceptionally well for the dominant class `0`, achieving perfect precision (1.00), a recall of 98%, and an F1 score of 0.99. This demonstrates the model's ability to handle the majority class with high accuracy.\n",
    "\n",
    "For minority classes, the XGBoost model performs similarly to the Random Forest model. Class `1` achieves a precision of 70% and perfect recall (100%), resulting in a strong F1 score of 0.82. Class `2`, despite having very few instances, achieves a high recall of 92% but has a low precision of 0.05, leading to an F1 score of 0.10.\n",
    "\n",
    "The macro average metrics (precision: 0.58, recall: 0.97, F1 score: 0.63) reflect the model's strong recall but lower precision for minority classes. The weighted averages (precision: 0.99, recall: 0.98, F1 score: 0.99) are heavily influenced by the dominant class. These results highlight XGBoost's strong performance on the majority class while providing good recall for minority classes, making it a robust choice. Further refinements, such as class weighting or oversampling, could help address the lower precision for the smallest class."
   ]
  },
  {
   "cell_type": "markdown",
   "id": "d2252d71-2155-4ef1-9a3a-771b176d1614",
   "metadata": {},
   "source": [
    "## Testing results on test dataset for the best models"
   ]
  },
  {
   "cell_type": "markdown",
   "id": "2f6fdf41-5f1e-488a-a416-b2efefee13d5",
   "metadata": {},
   "source": [
    "This code evaluates the performance of the best Logistic Regression, Random Forest, and XGBoost models on the test dataset. Each model makes predictions on the test features (`X_test`), and the predictions are compared against the true labels (`y_test`) to calculate performance metrics.\n",
    "\n",
    "For each model:\n",
    "- The **accuracy** is calculated to measure the proportion of correctly classified instances.\n",
    "- The **F1 score** is computed to evaluate the balance between precision and recall, weighted by class distribution.\n",
    "- A **classification report** is generated to provide a detailed breakdown of precision, recall, and F1 scores for each class.\n",
    "\n",
    "The results for each model are printed separately, allowing for a clear comparison of their performance on unseen test data. This evaluation helps determine which model generalizes best to new data and provides insights into their respective strengths and weaknesses."
   ]
  },
  {
   "cell_type": "code",
   "execution_count": 21,
   "id": "d0859ae3-cd9e-4191-a40c-38219de27cc8",
   "metadata": {},
   "outputs": [
    {
     "name": "stdout",
     "output_type": "stream",
     "text": [
      "Logistic Regression Test Results:\n",
      "Accuracy: 0.5228866471360207\n",
      "F1 Score: 0.6744065332990712\n",
      "Classification Report:\n",
      "               precision    recall  f1-score   support\n",
      "\n",
      "           0       1.00      0.52      0.68     74162\n",
      "           1       0.06      0.68      0.10      1220\n",
      "           2       0.00      0.76      0.00        55\n",
      "\n",
      "    accuracy                           0.52     75437\n",
      "   macro avg       0.35      0.66      0.26     75437\n",
      "weighted avg       0.98      0.52      0.67     75437\n",
      "\n",
      "\n",
      "Random Forest Test Results:\n",
      "Accuracy: 0.9771862613836712\n",
      "F1 Score: 0.9850041639829074\n",
      "Classification Report:\n",
      "               precision    recall  f1-score   support\n",
      "\n",
      "           0       1.00      0.98      0.99     74162\n",
      "           1       0.70      1.00      0.82      1220\n",
      "           2       0.04      0.80      0.07        55\n",
      "\n",
      "    accuracy                           0.98     75437\n",
      "   macro avg       0.58      0.92      0.63     75437\n",
      "weighted avg       0.99      0.98      0.99     75437\n",
      "\n",
      "\n",
      "XGBoost Test Results:\n",
      "Accuracy: 0.9771862613836712\n",
      "F1 Score: 0.9850041639829074\n",
      "Classification Report:\n",
      "               precision    recall  f1-score   support\n",
      "\n",
      "           0       1.00      0.98      0.99     74162\n",
      "           1       0.70      1.00      0.82      1220\n",
      "           2       0.04      0.80      0.07        55\n",
      "\n",
      "    accuracy                           0.98     75437\n",
      "   macro avg       0.58      0.92      0.63     75437\n",
      "weighted avg       0.99      0.98      0.99     75437\n",
      "\n"
     ]
    }
   ],
   "source": [
    "# Evaluate the best Logistic Regression model on the test set\n",
    "y_test_pred_logistic = best_logistic_model.predict(X_test)\n",
    "print(\"Logistic Regression Test Results:\")\n",
    "print(\"Accuracy:\", accuracy_score(y_test, y_test_pred_logistic))\n",
    "print(\"F1 Score:\", f1_score(y_test, y_test_pred_logistic, average='weighted'))\n",
    "print(\"Classification Report:\\n\", classification_report(y_test, y_test_pred_logistic))\n",
    "\n",
    "# Evaluate the best Random Forest model on the test set\n",
    "y_test_pred_rf = best_rf_model.predict(X_test)\n",
    "print(\"\\nRandom Forest Test Results:\")\n",
    "print(\"Accuracy:\", accuracy_score(y_test, y_test_pred_rf))\n",
    "print(\"F1 Score:\", f1_score(y_test, y_test_pred_rf, average='weighted'))\n",
    "print(\"Classification Report:\\n\", classification_report(y_test, y_test_pred_rf))\n",
    "\n",
    "# Evaluate the best XGBoost model on the test set\n",
    "y_test_pred_xgb = best_xgb_model.predict(X_test)\n",
    "print(\"\\nXGBoost Test Results:\")\n",
    "print(\"Accuracy:\", accuracy_score(y_test, y_test_pred_xgb))\n",
    "print(\"F1 Score:\", f1_score(y_test, y_test_pred_xgb, average='weighted'))\n",
    "print(\"Classification Report:\\n\", classification_report(y_test, y_test_pred_xgb))"
   ]
  },
  {
   "cell_type": "markdown",
   "id": "982486c9-8a63-4789-92b0-e6d7e226d224",
   "metadata": {},
   "source": [
    "### Summary:\n",
    "The test results for Logistic Regression, Random Forest, and XGBoost models highlight their respective performances on unseen data:\n",
    "\n",
    "- **Logistic Regression** achieves an accuracy of 52.29% and an F1 score of 67.44%. While class `0` has perfect precision (1.00), its recall is only 52%, leading to an F1 score of 0.68. For minority classes, performance is poor. Class `1` achieves a recall of 68% but has a precision of only 6%, resulting in an F1 score of 0.10. Class `2`, with very few samples, achieves a recall of 76% but a precision and F1 score of 0. The macro average metrics (precision: 0.35, recall: 0.66, F1 score: 0.26) and the heavily weighted influence of class `0` in the weighted averages reflect the model's inability to handle class imbalance effectively.\n",
    "\n",
    "- **Random Forest** significantly outperforms Logistic Regression, with an accuracy of 97.72% and an F1 score of 98.50%. Class `0` achieves near-perfect performance with an F1 score of 0.99. For class `1`, precision is 70% and recall is 100%, resulting in a strong F1 score of 0.82. Class `2`, while having a small sample size, achieves an F1 score of 0.07 due to a recall of 80% but very low precision (4%). The macro average metrics (precision: 0.58, recall: 0.92, F1 score: 0.63) reflect improved handling of minority classes compared to Logistic Regression, while the weighted averages (all around 0.99) demonstrate the model's strong overall performance.\n",
    "\n",
    "- **XGBoost** achieves results identical to Random Forest, with an accuracy of 97.72% and an F1 score of 98.50%. Similar to Random Forest, class `0` achieves near-perfect metrics, and class `1` performs well with an F1 score of 0.82. Class `2` achieves a recall of 80% but suffers from very low precision (4%), resulting in an F1 score of 0.07. The macro average (precision: 0.58, recall: 0.92, F1 score: 0.63) and weighted averages (around 0.99) mirror Random Forest's results, demonstrating the model's robustness.\n",
    "\n",
    "Overall, Random Forest and XGBoost outperform Logistic Regression, with nearly identical performance, handling the majority class effectively and significantly improving recall for minority classes. However, both models still face challenges in achieving high precision for the smallest class (`2`), highlighting opportunities for further optimization through techniques like oversampling, class weighting, or advanced ensemble methods."
   ]
  }
 ],
 "metadata": {
  "kernelspec": {
   "display_name": "Python 3 (ipykernel)",
   "language": "python",
   "name": "python3"
  },
  "language_info": {
   "codemirror_mode": {
    "name": "ipython",
    "version": 3
   },
   "file_extension": ".py",
   "mimetype": "text/x-python",
   "name": "python",
   "nbconvert_exporter": "python",
   "pygments_lexer": "ipython3",
   "version": "3.10.16"
  }
 },
 "nbformat": 4,
 "nbformat_minor": 5
}
